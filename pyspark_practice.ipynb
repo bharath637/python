{
  "nbformat": 4,
  "nbformat_minor": 0,
  "metadata": {
    "colab": {
      "provenance": [],
      "toc_visible": true,
      "authorship_tag": "ABX9TyPWsuk1Hadz0dNxpzzgKJS8",
      "include_colab_link": true
    },
    "kernelspec": {
      "name": "python3",
      "display_name": "Python 3"
    },
    "language_info": {
      "name": "python"
    }
  },
  "cells": [
    {
      "cell_type": "markdown",
      "metadata": {
        "id": "view-in-github",
        "colab_type": "text"
      },
      "source": [
        "<a href=\"https://colab.research.google.com/github/bharath637/python/blob/main/pyspark_practice.ipynb\" target=\"_parent\"><img src=\"https://colab.research.google.com/assets/colab-badge.svg\" alt=\"Open In Colab\"/></a>"
      ]
    },
    {
      "cell_type": "code",
      "execution_count": 1,
      "metadata": {
        "colab": {
          "base_uri": "https://localhost:8080/"
        },
        "id": "hEUGIGC0Y7ad",
        "outputId": "671ebdb1-a719-4d1a-df03-84690aaea9ef"
      },
      "outputs": [
        {
          "output_type": "stream",
          "name": "stdout",
          "text": [
            "Looking in indexes: https://pypi.org/simple, https://us-python.pkg.dev/colab-wheels/public/simple/\n",
            "Collecting pyspark\n",
            "  Downloading pyspark-3.3.1.tar.gz (281.4 MB)\n",
            "\u001b[2K     \u001b[90m━━━━━━━━━━━━━━━━━━━━━━━━━━━━━━━━━━━━━━━\u001b[0m \u001b[32m281.4/281.4 MB\u001b[0m \u001b[31m4.3 MB/s\u001b[0m eta \u001b[36m0:00:00\u001b[0m\n",
            "\u001b[?25h  Preparing metadata (setup.py) ... \u001b[?25l\u001b[?25hdone\n",
            "Collecting py4j==0.10.9.5\n",
            "  Downloading py4j-0.10.9.5-py2.py3-none-any.whl (199 kB)\n",
            "\u001b[2K     \u001b[90m━━━━━━━━━━━━━━━━━━━━━━━━━━━━━━━━━━━━━━\u001b[0m \u001b[32m199.7/199.7 KB\u001b[0m \u001b[31m17.6 MB/s\u001b[0m eta \u001b[36m0:00:00\u001b[0m\n",
            "\u001b[?25hBuilding wheels for collected packages: pyspark\n",
            "  Building wheel for pyspark (setup.py) ... \u001b[?25l\u001b[?25hdone\n",
            "  Created wheel for pyspark: filename=pyspark-3.3.1-py2.py3-none-any.whl size=281845512 sha256=bd1724bbb9ef11cae9f6fbd908aa3c2dfabea8d7350ddd472ddc12fca401dd1f\n",
            "  Stored in directory: /root/.cache/pip/wheels/43/dc/11/ec201cd671da62fa9c5cc77078235e40722170ceba231d7598\n",
            "Successfully built pyspark\n",
            "Installing collected packages: py4j, pyspark\n",
            "Successfully installed py4j-0.10.9.5 pyspark-3.3.1\n"
          ]
        }
      ],
      "source": [
        "!pip3 install pyspark"
      ]
    },
    {
      "cell_type": "code",
      "source": [
        "from pyspark.sql import SparkSession\n",
        "spark = SparkSession.builder.master(\"local[*]\").getOrCreate()\n",
        "spark"
      ],
      "metadata": {
        "colab": {
          "base_uri": "https://localhost:8080/",
          "height": 219
        },
        "id": "bjXm_LU1aAvq",
        "outputId": "122cb964-92bf-44a4-d1f0-0835e37f218a"
      },
      "execution_count": 2,
      "outputs": [
        {
          "output_type": "execute_result",
          "data": {
            "text/plain": [
              "<pyspark.sql.session.SparkSession at 0x7f1a0112f430>"
            ],
            "text/html": [
              "\n",
              "            <div>\n",
              "                <p><b>SparkSession - in-memory</b></p>\n",
              "                \n",
              "        <div>\n",
              "            <p><b>SparkContext</b></p>\n",
              "\n",
              "            <p><a href=\"http://df0fb1adbe41:4040\">Spark UI</a></p>\n",
              "\n",
              "            <dl>\n",
              "              <dt>Version</dt>\n",
              "                <dd><code>v3.3.1</code></dd>\n",
              "              <dt>Master</dt>\n",
              "                <dd><code>local[*]</code></dd>\n",
              "              <dt>AppName</dt>\n",
              "                <dd><code>pyspark-shell</code></dd>\n",
              "            </dl>\n",
              "        </div>\n",
              "        \n",
              "            </div>\n",
              "        "
            ]
          },
          "metadata": {},
          "execution_count": 2
        }
      ]
    },
    {
      "cell_type": "code",
      "source": [
        "from pyspark.sql.functions import collect_list\n",
        "data = [ (1,\"hotstar\"),(1,\"netflix\"),(2,\"hotstar\"),(3,\"netflix\"),(4,\"zee\"),(4,\"netflix\"),(4,\"hotstar\")]\n",
        "schema = [\"ID\",\"SERVICE\"]\n",
        "\n",
        "df = spark.createDataFrame(data,schema)\n",
        "df.show()\n",
        "\n",
        "\n",
        "\n"
      ],
      "metadata": {
        "colab": {
          "base_uri": "https://localhost:8080/"
        },
        "id": "YyGpLzlhaF70",
        "outputId": "a9b659db-9bd7-4c50-903e-b52dd2a75337"
      },
      "execution_count": null,
      "outputs": [
        {
          "output_type": "stream",
          "name": "stdout",
          "text": [
            "+---+-------+\n",
            "| ID|SERVICE|\n",
            "+---+-------+\n",
            "|  1|hotstar|\n",
            "|  1|netflix|\n",
            "|  2|hotstar|\n",
            "|  3|netflix|\n",
            "|  4|    zee|\n",
            "|  4|netflix|\n",
            "|  4|hotstar|\n",
            "+---+-------+\n",
            "\n"
          ]
        }
      ]
    },
    {
      "cell_type": "code",
      "source": [
        "from pyspark.sql.functions import col,lit,concat_ws,when\n",
        "df1=df.groupBy('ID').agg(collect_list(col(\"SERVICE\")).alias(\"all_services\")).select(col(\"ID\").alias(\"no\"),concat_ws(',',col(\"all_services\")))\n",
        "df1.show()"
      ],
      "metadata": {
        "id": "aue4KHySM_SR"
      },
      "execution_count": null,
      "outputs": []
    },
    {
      "cell_type": "code",
      "source": [
        "#Prepare column list\n",
        "from datetime import date\n",
        "date=\"2022-01-21\"\n",
        "col_list = [eval('df.%s' %cl) for cl in df.columns]\n",
        "print(col_list)\n",
        "df2= df.select(col_list).withColumn(\"ld_dt\",lit(date))\n",
        "df2.show()"
      ],
      "metadata": {
        "colab": {
          "base_uri": "https://localhost:8080/"
        },
        "id": "-TZ6v0fJdWEj",
        "outputId": "75820344-f03b-4a0d-d966-398d1da9d89c"
      },
      "execution_count": null,
      "outputs": [
        {
          "output_type": "stream",
          "name": "stdout",
          "text": [
            "[Column<'ID'>, Column<'SERVICE'>]\n",
            "+---+-------+----------+\n",
            "| ID|SERVICE|     ld_dt|\n",
            "+---+-------+----------+\n",
            "|  1|hotstar|2022-01-21|\n",
            "|  1|netflix|2022-01-21|\n",
            "|  2|hotstar|2022-01-21|\n",
            "|  3|netflix|2022-01-21|\n",
            "|  4|    zee|2022-01-21|\n",
            "|  4|netflix|2022-01-21|\n",
            "|  4|hotstar|2022-01-21|\n",
            "+---+-------+----------+\n",
            "\n"
          ]
        }
      ]
    },
    {
      "cell_type": "code",
      "source": [
        "# use when and otherwise\n",
        "df.show()\n",
        "df.select(col(\"ID\"),when(col(\"SERVICE\")=='hotstar',\"HotStar Premium\").otherwise(col(\"SERVICE\")).alias(\"SERVICE\")).show()\n"
      ],
      "metadata": {
        "colab": {
          "base_uri": "https://localhost:8080/"
        },
        "id": "gzrNjgNGjZS2",
        "outputId": "75d4bf70-bd73-4a22-cd30-01e505e6ca57"
      },
      "execution_count": null,
      "outputs": [
        {
          "output_type": "stream",
          "name": "stdout",
          "text": [
            "+---+-------+\n",
            "| ID|SERVICE|\n",
            "+---+-------+\n",
            "|  1|hotstar|\n",
            "|  1|netflix|\n",
            "|  2|hotstar|\n",
            "|  3|netflix|\n",
            "|  4|    zee|\n",
            "|  4|netflix|\n",
            "|  4|hotstar|\n",
            "+---+-------+\n",
            "\n",
            "+---+---------------+\n",
            "| ID|        SERVICE|\n",
            "+---+---------------+\n",
            "|  1|HotStar Premium|\n",
            "|  1|        netflix|\n",
            "|  2|HotStar Premium|\n",
            "|  3|        netflix|\n",
            "|  4|            zee|\n",
            "|  4|        netflix|\n",
            "|  4|HotStar Premium|\n",
            "+---+---------------+\n",
            "\n"
          ]
        }
      ]
    },
    {
      "cell_type": "code",
      "source": [
        "data = [ (5,\"hotstar\"),(5,\"netflix\"),(6,\"hotstar\"),(6,\"netflix\"),(7,\"zee\"),(8,\"netflix\"),(9,\"hotstar\")]\n",
        "schema = [\"ID\",\"SERVICE\"]\n",
        "\n",
        "df5 = spark.createDataFrame(data,schema)\n",
        "#df5.show()\n",
        "\n",
        "# UNION ALL\n",
        "from pyspark.sql import DataFrame\n",
        "from functools import reduce\n",
        "def unionall(*datafra):\n",
        "  return reduce(DataFrame.unionByName,datafra)\n",
        "final_df = unionall(*[df,df5])\n",
        "final_df.show()\n"
      ],
      "metadata": {
        "colab": {
          "base_uri": "https://localhost:8080/"
        },
        "id": "Q0stcGgBNIfm",
        "outputId": "8ef3724f-76db-4be8-941c-9c6e73b7c12a"
      },
      "execution_count": null,
      "outputs": [
        {
          "output_type": "stream",
          "name": "stdout",
          "text": [
            "+---+-------+\n",
            "| ID|SERVICE|\n",
            "+---+-------+\n",
            "|  1|hotstar|\n",
            "|  1|netflix|\n",
            "|  2|hotstar|\n",
            "|  3|netflix|\n",
            "|  4|    zee|\n",
            "|  4|netflix|\n",
            "|  4|hotstar|\n",
            "|  5|hotstar|\n",
            "|  5|netflix|\n",
            "|  6|hotstar|\n",
            "|  6|netflix|\n",
            "|  7|    zee|\n",
            "|  8|netflix|\n",
            "|  9|hotstar|\n",
            "+---+-------+\n",
            "\n"
          ]
        }
      ]
    },
    {
      "cell_type": "code",
      "source": [
        "def summ(*inp):\n",
        "  return reduce(lambda x,y:x+y,inp)\n",
        "\n",
        "sum([1,2,4,5,5])\n",
        "\n",
        "\n"
      ],
      "metadata": {
        "colab": {
          "base_uri": "https://localhost:8080/"
        },
        "id": "p3e8qJiLVs2J",
        "outputId": "608729c8-3e9a-4364-f24a-37d410b876de"
      },
      "execution_count": null,
      "outputs": [
        {
          "output_type": "execute_result",
          "data": {
            "text/plain": [
              "17"
            ]
          },
          "metadata": {},
          "execution_count": 1
        }
      ]
    },
    {
      "cell_type": "code",
      "source": [
        "#Remove special characters\n",
        "\n",
        "df11 = spark.sql(\"select '&=()' as matchstring\")\n",
        "df11.show()\n",
        "matchstring = df11.collect()[0].matchstring\n",
        "data2 = [ (10,\"hotstar&\"),(11,\"netflix=\")]\n",
        "schema2 = [\"ID\",\"SERVICE\"]\n",
        "df12 = spark.createDataFrame(data2,schema2)\n",
        "from pyspark.sql.functions import translate,col,trim\n",
        "df12 =df12.select(trim(translate(col(\"SERVICE\"),matchstring,\" \")))\n",
        "df12.show()\n"
      ],
      "metadata": {
        "colab": {
          "base_uri": "https://localhost:8080/"
        },
        "id": "kfDyNDBez50X",
        "outputId": "cf2971b0-b957-42b7-deb2-bb60be438a37"
      },
      "execution_count": 10,
      "outputs": [
        {
          "output_type": "stream",
          "name": "stdout",
          "text": [
            "+-----------+\n",
            "|matchstring|\n",
            "+-----------+\n",
            "|       &=()|\n",
            "+-----------+\n",
            "\n",
            "+---------------------------------+\n",
            "|trim(translate(SERVICE, &=(),  ))|\n",
            "+---------------------------------+\n",
            "|                          hotstar|\n",
            "|                          netflix|\n",
            "+---------------------------------+\n",
            "\n"
          ]
        },
        {
          "output_type": "execute_result",
          "data": {
            "text/plain": [
              "Row(matchstring='&=()')"
            ]
          },
          "metadata": {},
          "execution_count": 10
        }
      ]
    }
  ]
}