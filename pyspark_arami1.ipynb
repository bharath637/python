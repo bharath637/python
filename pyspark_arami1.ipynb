{
  "nbformat": 4,
  "nbformat_minor": 0,
  "metadata": {
    "colab": {
      "provenance": [],
      "authorship_tag": "ABX9TyPahbrFgRDWc7KFy5TNCCYl",
      "include_colab_link": true
    },
    "kernelspec": {
      "name": "python3",
      "display_name": "Python 3"
    },
    "language_info": {
      "name": "python"
    }
  },
  "cells": [
    {
      "cell_type": "markdown",
      "metadata": {
        "id": "view-in-github",
        "colab_type": "text"
      },
      "source": [
        "<a href=\"https://colab.research.google.com/github/bharath637/python/blob/main/pyspark_arami1.ipynb\" target=\"_parent\"><img src=\"https://colab.research.google.com/assets/colab-badge.svg\" alt=\"Open In Colab\"/></a>"
      ]
    },
    {
      "cell_type": "code",
      "execution_count": null,
      "metadata": {
        "id": "8nu2LBqLnGnC"
      },
      "outputs": [],
      "source": []
    },
    {
      "cell_type": "markdown",
      "source": [
        "# Spark Connection"
      ],
      "metadata": {
        "id": "7wb3zTjlnPml"
      }
    },
    {
      "cell_type": "code",
      "source": [
        "!pip3 install pyspark"
      ],
      "metadata": {
        "colab": {
          "base_uri": "https://localhost:8080/"
        },
        "id": "jV-VI4CAnNeQ",
        "outputId": "b1ff9687-9c19-4c00-f0d5-258b01f43a05"
      },
      "execution_count": null,
      "outputs": [
        {
          "output_type": "stream",
          "name": "stdout",
          "text": [
            "Looking in indexes: https://pypi.org/simple, https://us-python.pkg.dev/colab-wheels/public/simple/\n",
            "Collecting pyspark\n",
            "  Downloading pyspark-3.3.1.tar.gz (281.4 MB)\n",
            "\u001b[2K     \u001b[90m━━━━━━━━━━━━━━━━━━━━━━━━━━━━━━━━━━━━━━━\u001b[0m \u001b[32m281.4/281.4 MB\u001b[0m \u001b[31m4.2 MB/s\u001b[0m eta \u001b[36m0:00:00\u001b[0m\n",
            "\u001b[?25h  Preparing metadata (setup.py) ... \u001b[?25l\u001b[?25hdone\n",
            "Collecting py4j==0.10.9.5\n",
            "  Downloading py4j-0.10.9.5-py2.py3-none-any.whl (199 kB)\n",
            "\u001b[2K     \u001b[90m━━━━━━━━━━━━━━━━━━━━━━━━━━━━━━━━━━━━━━\u001b[0m \u001b[32m199.7/199.7 KB\u001b[0m \u001b[31m17.1 MB/s\u001b[0m eta \u001b[36m0:00:00\u001b[0m\n",
            "\u001b[?25hBuilding wheels for collected packages: pyspark\n",
            "  Building wheel for pyspark (setup.py) ... \u001b[?25l\u001b[?25hdone\n",
            "  Created wheel for pyspark: filename=pyspark-3.3.1-py2.py3-none-any.whl size=281845512 sha256=eb5b190756a4fbea5756002220f29dc6589fc9ddbd235f77c6ed0162f0be0c27\n",
            "  Stored in directory: /root/.cache/pip/wheels/43/dc/11/ec201cd671da62fa9c5cc77078235e40722170ceba231d7598\n",
            "Successfully built pyspark\n",
            "Installing collected packages: py4j, pyspark\n",
            "Successfully installed py4j-0.10.9.5 pyspark-3.3.1\n"
          ]
        }
      ]
    },
    {
      "cell_type": "code",
      "source": [
        "from pyspark.conf import SparkConf\n",
        "from pyspark.context import SparkContext\n",
        "import pyspark\n",
        "from pyspark.sql import SparkSession\n",
        "\n",
        "spark = SparkSession.builder.appName(\"First Spyspark DF program\").master(\"local[*]\").getOrCreate()"
      ],
      "metadata": {
        "id": "sfjK3xnOo5ee"
      },
      "execution_count": null,
      "outputs": []
    },
    {
      "cell_type": "code",
      "source": [
        "print(spark)"
      ],
      "metadata": {
        "colab": {
          "base_uri": "https://localhost:8080/"
        },
        "id": "bzZ35YmHporG",
        "outputId": "b23aaa05-8df5-4b9a-c3ca-cce149ce60f6"
      },
      "execution_count": null,
      "outputs": [
        {
          "output_type": "stream",
          "name": "stdout",
          "text": [
            "<pyspark.sql.session.SparkSession object at 0x7fc1b5c9a670>\n"
          ]
        }
      ]
    },
    {
      "cell_type": "code",
      "source": [
        "#  Create DF and basic operations\n",
        "%%time\n",
        "#using read.format\n",
        "df1 = spark.read.format(\"csv\").load(\"/content/CompleteDataset.csv\",inferSchema=\"True\",Header='True')\n",
        "df1.show(1)\n"
      ],
      "metadata": {
        "id": "S8iw5EzxpsU_"
      },
      "execution_count": null,
      "outputs": []
    },
    {
      "cell_type": "code",
      "source": [
        "%%time\n",
        "#using csv\n",
        "df2 = spark.read.csv(\"/content/CompleteDataset.csv\",inferSchema=\"True\",header=\"True\")\n",
        "df2.show(10)"
      ],
      "metadata": {
        "id": "qFhpwWe7rgSv"
      },
      "execution_count": null,
      "outputs": []
    },
    {
      "cell_type": "code",
      "source": [
        "# How many partitions in DF?\n",
        "df1.rdd.getNumPartitions()"
      ],
      "metadata": {
        "colab": {
          "base_uri": "https://localhost:8080/"
        },
        "id": "YW9DeKkRr5k0",
        "outputId": "4f11b3da-1760-497d-acfe-33eaa248ee7b"
      },
      "execution_count": null,
      "outputs": [
        {
          "output_type": "execute_result",
          "data": {
            "text/plain": [
              "2"
            ]
          },
          "metadata": {},
          "execution_count": 12
        }
      ]
    },
    {
      "cell_type": "code",
      "source": [
        "# Increase/Desrease the partitions in DF\n",
        "df_rep_inc=df1.repartition(10)\n",
        "print(df_rep_inc.rdd.getNumPartitions())\n",
        "df_rep_dec=df1.repartition(1)\n",
        "print(df_rep_dec.rdd.getNumPartitions())\n",
        "df_rep_inc.show(1)"
      ],
      "metadata": {
        "colab": {
          "base_uri": "https://localhost:8080/"
        },
        "id": "JTqLGIjTtG2q",
        "outputId": "119dde9d-1251-4d18-9b21-f2bfafef1d18"
      },
      "execution_count": null,
      "outputs": [
        {
          "output_type": "stream",
          "name": "stdout",
          "text": [
            "10\n",
            "1\n",
            "+---+----------+---+--------------------+-----------+--------------------+-------+---------+--------------+--------------------+-----+----+-------+------------+----------+-------+-------+------------+---------+--------+-----+---------+---------+------------------+---------+-----------+----------+--------------+-----------+----------------+-------------+-------+------------+----------+-------+---------+-----------+---------+-------------+----------+--------------+------------+-------+---------------+--------+------+-------+----+----+----+----+----+------+----+----+----+----+----+----+----+----+----+----+-------------------+----+----+----+----+----+----+----+----+----+----+----+\n",
            "|_c0|      Name|Age|               Photo|Nationality|                Flag|Overall|Potential|          Club|           Club Logo|Value|Wage|Special|Acceleration|Aggression|Agility|Balance|Ball control|Composure|Crossing|Curve|Dribbling|Finishing|Free kick accuracy|GK diving|GK handling|GK kicking|GK positioning|GK reflexes|Heading accuracy|Interceptions|Jumping|Long passing|Long shots|Marking|Penalties|Positioning|Reactions|Short passing|Shot power|Sliding tackle|Sprint speed|Stamina|Standing tackle|Strength|Vision|Volleys| CAM|  CB| CDM|  CF|  CM|    ID| LAM|  LB| LCB| LCM| LDM|  LF|  LM|  LS|  LW| LWB|Preferred Positions| RAM|  RB| RCB| RCM| RDM|  RF|  RM|  RS|  RW| RWB|  ST|\n",
            "+---+----------+---+--------------------+-----------+--------------------+-------+---------+--------------+--------------------+-----+----+-------+------------+----------+-------+-------+------------+---------+--------+-----+---------+---------+------------------+---------+-----------+----------+--------------+-----------+----------------+-------------+-------+------------+----------+-------+---------+-----------+---------+-------------+----------+--------------+------------+-------+---------------+--------+------+-------+----+----+----+----+----+------+----+----+----+----+----+----+----+----+----+----+-------------------+----+----+----+----+----+----+----+----+----+----+----+\n",
            "|677|A. Samedov| 32|https://cdn.sofif...|     Russia|https://cdn.sofif...|     79|       79|Spartak Moscow|https://cdn.sofif...| €10M|€74K|   2043|          81|        73|     78|     73|          78|       74|      80|   86|       74|       74|                79|        8|          8|         8|            11|         12|              59|           42|     64|          69|        75|     52|       81|         77|       78|           80|        73|            47|          80|     82|             52|      68|    80|     61|77.0|59.0|65.0|77.0|74.0|147621|77.0|65.0|59.0|74.0|65.0|77.0|78.0|74.0|78.0|67.0|                RM |77.0|65.0|59.0|74.0|65.0|77.0|78.0|74.0|78.0|67.0|74.0|\n",
            "+---+----------+---+--------------------+-----------+--------------------+-------+---------+--------------+--------------------+-----+----+-------+------------+----------+-------+-------+------------+---------+--------+-----+---------+---------+------------------+---------+-----------+----------+--------------+-----------+----------------+-------------+-------+------------+----------+-------+---------+-----------+---------+-------------+----------+--------------+------------+-------+---------------+--------+------+-------+----+----+----+----+----+------+----+----+----+----+----+----+----+----+----+----+-------------------+----+----+----+----+----+----+----+----+----+----+----+\n",
            "only showing top 1 row\n",
            "\n"
          ]
        }
      ]
    },
    {
      "cell_type": "code",
      "source": [
        "# Rename Columns and Amend NULLs:\n",
        "\n",
        "df_rep_inc = df_rep_inc.withColumnRenamed(\"_c0\",\"ID\")\\\n",
        ".withColumnRenamed(\"Ball control\", \"Ball_Control\")\\\n",
        ".withColumnRenamed(\"Sliding tackle\", \"Sliding_Tackle\")\n"
      ],
      "metadata": {
        "id": "eTLAH5EbtrzR"
      },
      "execution_count": null,
      "outputs": []
    },
    {
      "cell_type": "code",
      "source": [
        "df_rep_inc.show(1)"
      ],
      "metadata": {
        "colab": {
          "base_uri": "https://localhost:8080/"
        },
        "id": "FhNhcyuVvjnE",
        "outputId": "a0e62380-5146-4a6a-e3ce-12c68a24f680"
      },
      "execution_count": null,
      "outputs": [
        {
          "output_type": "stream",
          "name": "stdout",
          "text": [
            "+---+----------+---+--------------------+-----------+--------------------+-------+---------+--------------+--------------------+-----+----+-------+------------+----------+-------+-------+------------+---------+--------+-----+---------+---------+------------------+---------+-----------+----------+--------------+-----------+----------------+-------------+-------+------------+----------+-------+---------+-----------+---------+-------------+----------+--------------+------------+-------+---------------+--------+------+-------+----+----+----+----+----+------+----+----+----+----+----+----+----+----+----+----+-------------------+----+----+----+----+----+----+----+----+----+----+----+\n",
            "| ID|      Name|Age|               Photo|Nationality|                Flag|Overall|Potential|          Club|           Club Logo|Value|Wage|Special|Acceleration|Aggression|Agility|Balance|Ball_Control|Composure|Crossing|Curve|Dribbling|Finishing|Free kick accuracy|GK diving|GK handling|GK kicking|GK positioning|GK reflexes|Heading accuracy|Interceptions|Jumping|Long passing|Long shots|Marking|Penalties|Positioning|Reactions|Short passing|Shot power|Sliding_Tackle|Sprint speed|Stamina|Standing tackle|Strength|Vision|Volleys| CAM|  CB| CDM|  CF|  CM|    ID| LAM|  LB| LCB| LCM| LDM|  LF|  LM|  LS|  LW| LWB|Preferred Positions| RAM|  RB| RCB| RCM| RDM|  RF|  RM|  RS|  RW| RWB|  ST|\n",
            "+---+----------+---+--------------------+-----------+--------------------+-------+---------+--------------+--------------------+-----+----+-------+------------+----------+-------+-------+------------+---------+--------+-----+---------+---------+------------------+---------+-----------+----------+--------------+-----------+----------------+-------------+-------+------------+----------+-------+---------+-----------+---------+-------------+----------+--------------+------------+-------+---------------+--------+------+-------+----+----+----+----+----+------+----+----+----+----+----+----+----+----+----+----+-------------------+----+----+----+----+----+----+----+----+----+----+----+\n",
            "|677|A. Samedov| 32|https://cdn.sofif...|     Russia|https://cdn.sofif...|     79|       79|Spartak Moscow|https://cdn.sofif...| €10M|€74K|   2043|          81|        73|     78|     73|          78|       74|      80|   86|       74|       74|                79|        8|          8|         8|            11|         12|              59|           42|     64|          69|        75|     52|       81|         77|       78|           80|        73|            47|          80|     82|             52|      68|    80|     61|77.0|59.0|65.0|77.0|74.0|147621|77.0|65.0|59.0|74.0|65.0|77.0|78.0|74.0|78.0|67.0|                RM |77.0|65.0|59.0|74.0|65.0|77.0|78.0|74.0|78.0|67.0|74.0|\n",
            "+---+----------+---+--------------------+-----------+--------------------+-------+---------+--------------+--------------------+-----+----+-------+------------+----------+-------+-------+------------+---------+--------+-----+---------+---------+------------------+---------+-----------+----------+--------------+-----------+----------------+-------------+-------+------------+----------+-------+---------+-----------+---------+-------------+----------+--------------+------------+-------+---------------+--------+------+-------+----+----+----+----+----+------+----+----+----+----+----+----+----+----+----+----+-------------------+----+----+----+----+----+----+----+----+----+----+----+\n",
            "only showing top 1 row\n",
            "\n"
          ]
        }
      ]
    },
    {
      "cell_type": "code",
      "source": [
        "#from pyspark.sql.functions import col\n",
        "print(df_rep_inc)\n",
        "df_rep_inc.select(\"Name\",\"Age\").show(2)"
      ],
      "metadata": {
        "colab": {
          "base_uri": "https://localhost:8080/"
        },
        "id": "SOO8gvZvv7P6",
        "outputId": "19ee8deb-0226-42de-d4cc-ff8775dd5090"
      },
      "execution_count": 58,
      "outputs": [
        {
          "output_type": "stream",
          "name": "stdout",
          "text": [
            "DataFrame[ID: int, Name: string, Age: int, Photo: string, Nationality: string, Flag: string, Overall: int, Potential: int, Club: string, Club Logo: string, Value: string, Wage: string, Special: int, Acceleration: string, Aggression: string, Agility: string, Balance: string, Ball_Control: string, Composure: string, Crossing: string, Curve: string, Dribbling: string, Finishing: string, Free kick accuracy: string, GK diving: string, GK handling: string, GK kicking: string, GK positioning: string, GK reflexes: string, Heading accuracy: string, Interceptions: string, Jumping: string, Long passing: string, Long shots: string, Marking: string, Penalties: string, Positioning: string, Reactions: string, Short passing: string, Shot power: string, Sliding_Tackle: string, Sprint speed: string, Stamina: string, Standing tackle: string, Strength: string, Vision: string, Volleys: string, CAM: double, CB: double, CDM: double, CF: double, CM: double, ID: int, LAM: double, LB: double, LCB: double, LCM: double, LDM: double, LF: double, LM: double, LS: double, LW: double, LWB: double, Preferred Positions: string, RAM: double, RB: double, RCB: double, RCM: double, RDM: double, RF: double, RM: double, RS: double, RW: double, RWB: double, ST: double]\n",
            "+------------+---+\n",
            "|        Name|Age|\n",
            "+------------+---+\n",
            "|  E. Quejeda| 29|\n",
            "|L. Escalante| 25|\n",
            "+------------+---+\n",
            "only showing top 2 rows\n",
            "\n"
          ]
        }
      ]
    },
    {
      "cell_type": "code",
      "source": [
        "# Reading delimited files\n",
        "\n",
        "df_dat = spark.read.csv(\"/content/file.dat\",sep='~',header='True',inferSchema=\"True\")\n",
        "df_dat.show()"
      ],
      "metadata": {
        "colab": {
          "base_uri": "https://localhost:8080/"
        },
        "id": "losFQpfuDBOz",
        "outputId": "bf3bd8c1-a10a-4473-f12b-45269fd34bd4"
      },
      "execution_count": 62,
      "outputs": [
        {
          "output_type": "stream",
          "name": "stdout",
          "text": [
            "+-------+---+----------+\n",
            "|   Name|Age|       DOB|\n",
            "+-------+---+----------+\n",
            "|Bharath| 29|12/09/1992|\n",
            "|Sharath| 30|12/09/1997|\n",
            "+-------+---+----------+\n",
            "\n"
          ]
        }
      ]
    }
  ]
}