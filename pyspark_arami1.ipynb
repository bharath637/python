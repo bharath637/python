{
  "nbformat": 4,
  "nbformat_minor": 0,
  "metadata": {
    "colab": {
      "provenance": [],
      "authorship_tag": "ABX9TyMroAC5PKz+WCEYKYuK0Gjj",
      "include_colab_link": true
    },
    "kernelspec": {
      "name": "python3",
      "display_name": "Python 3"
    },
    "language_info": {
      "name": "python"
    }
  },
  "cells": [
    {
      "cell_type": "markdown",
      "metadata": {
        "id": "view-in-github",
        "colab_type": "text"
      },
      "source": [
        "<a href=\"https://colab.research.google.com/github/bharath637/python/blob/main/pyspark_arami1.ipynb\" target=\"_parent\"><img src=\"https://colab.research.google.com/assets/colab-badge.svg\" alt=\"Open In Colab\"/></a>"
      ]
    },
    {
      "cell_type": "code",
      "execution_count": null,
      "metadata": {
        "id": "8nu2LBqLnGnC"
      },
      "outputs": [],
      "source": []
    },
    {
      "cell_type": "markdown",
      "source": [
        "# Spark Connection"
      ],
      "metadata": {
        "id": "7wb3zTjlnPml"
      }
    },
    {
      "cell_type": "code",
      "source": [
        "!pip3 install pyspark"
      ],
      "metadata": {
        "colab": {
          "base_uri": "https://localhost:8080/"
        },
        "id": "jV-VI4CAnNeQ",
        "outputId": "8b020f98-81a5-4a32-83ae-16001105f035"
      },
      "execution_count": 3,
      "outputs": [
        {
          "output_type": "stream",
          "name": "stdout",
          "text": [
            "Looking in indexes: https://pypi.org/simple, https://us-python.pkg.dev/colab-wheels/public/simple/\n",
            "Collecting pyspark\n",
            "  Downloading pyspark-3.3.1.tar.gz (281.4 MB)\n",
            "\u001b[2K     \u001b[90m━━━━━━━━━━━━━━━━━━━━━━━━━━━━━━━━━━━━━━━\u001b[0m \u001b[32m281.4/281.4 MB\u001b[0m \u001b[31m4.0 MB/s\u001b[0m eta \u001b[36m0:00:00\u001b[0m\n",
            "\u001b[?25h  Preparing metadata (setup.py) ... \u001b[?25l\u001b[?25hdone\n",
            "Collecting py4j==0.10.9.5\n",
            "  Downloading py4j-0.10.9.5-py2.py3-none-any.whl (199 kB)\n",
            "\u001b[2K     \u001b[90m━━━━━━━━━━━━━━━━━━━━━━━━━━━━━━━━━━━━━━\u001b[0m \u001b[32m199.7/199.7 KB\u001b[0m \u001b[31m16.5 MB/s\u001b[0m eta \u001b[36m0:00:00\u001b[0m\n",
            "\u001b[?25hBuilding wheels for collected packages: pyspark\n",
            "  Building wheel for pyspark (setup.py) ... \u001b[?25l\u001b[?25hdone\n",
            "  Created wheel for pyspark: filename=pyspark-3.3.1-py2.py3-none-any.whl size=281845512 sha256=d50a080d249e3f945d0ed5a9fb1984ede4fe779b791ce4de3d8e8f975d617633\n",
            "  Stored in directory: /root/.cache/pip/wheels/43/dc/11/ec201cd671da62fa9c5cc77078235e40722170ceba231d7598\n",
            "Successfully built pyspark\n",
            "Installing collected packages: py4j, pyspark\n",
            "Successfully installed py4j-0.10.9.5 pyspark-3.3.1\n"
          ]
        }
      ]
    },
    {
      "cell_type": "code",
      "source": [
        "from pyspark.conf import SparkConf\n",
        "from pyspark.context import SparkContext\n",
        "import pyspark\n",
        "from pyspark.sql import SparkSession\n",
        "\n",
        "spark = SparkSession.builder.appName(\"First Spyspark DF program\").master(\"local[*]\").getOrCreate()"
      ],
      "metadata": {
        "id": "sfjK3xnOo5ee"
      },
      "execution_count": 5,
      "outputs": []
    },
    {
      "cell_type": "code",
      "source": [
        "print(spark)"
      ],
      "metadata": {
        "colab": {
          "base_uri": "https://localhost:8080/"
        },
        "id": "bzZ35YmHporG",
        "outputId": "b23aaa05-8df5-4b9a-c3ca-cce149ce60f6"
      },
      "execution_count": null,
      "outputs": [
        {
          "output_type": "stream",
          "name": "stdout",
          "text": [
            "<pyspark.sql.session.SparkSession object at 0x7fc1b5c9a670>\n"
          ]
        }
      ]
    },
    {
      "cell_type": "code",
      "source": [
        "#  Create DF and basic operations\n",
        "%%time\n",
        "#using read.format\n",
        "df1 = spark.read.format(\"csv\").load(\"/content/CompleteDataset.csv\",inferSchema=\"True\",Header='True')\n",
        "df1.show(1)\n"
      ],
      "metadata": {
        "id": "S8iw5EzxpsU_",
        "colab": {
          "base_uri": "https://localhost:8080/"
        },
        "outputId": "dee98d20-15fc-4cba-cc05-42087c26e77b"
      },
      "execution_count": 4,
      "outputs": [
        {
          "output_type": "stream",
          "name": "stdout",
          "text": [
            "+---+-----------------+---+--------------------+-----------+--------------------+-------+---------+--------------+--------------------+------+-----+-------+------------+----------+-------+-------+------------+---------+--------+-----+---------+---------+------------------+---------+-----------+----------+--------------+-----------+----------------+-------------+-------+------------+----------+-------+---------+-----------+---------+-------------+----------+--------------+------------+-------+---------------+--------+------+-------+----+----+----+----+----+-----+----+----+----+----+----+----+----+----+----+----+-------------------+----+----+----+----+----+----+----+----+----+----+----+\n",
            "|_c0|             Name|Age|               Photo|Nationality|                Flag|Overall|Potential|          Club|           Club Logo| Value| Wage|Special|Acceleration|Aggression|Agility|Balance|Ball control|Composure|Crossing|Curve|Dribbling|Finishing|Free kick accuracy|GK diving|GK handling|GK kicking|GK positioning|GK reflexes|Heading accuracy|Interceptions|Jumping|Long passing|Long shots|Marking|Penalties|Positioning|Reactions|Short passing|Shot power|Sliding tackle|Sprint speed|Stamina|Standing tackle|Strength|Vision|Volleys| CAM|  CB| CDM|  CF|  CM|   ID| LAM|  LB| LCB| LCM| LDM|  LF|  LM|  LS|  LW| LWB|Preferred Positions| RAM|  RB| RCB| RCM| RDM|  RF|  RM|  RS|  RW| RWB|  ST|\n",
            "+---+-----------------+---+--------------------+-----------+--------------------+-------+---------+--------------+--------------------+------+-----+-------+------------+----------+-------+-------+------------+---------+--------+-----+---------+---------+------------------+---------+-----------+----------+--------------+-----------+----------------+-------------+-------+------------+----------+-------+---------+-----------+---------+-------------+----------+--------------+------------+-------+---------------+--------+------+-------+----+----+----+----+----+-----+----+----+----+----+----+----+----+----+----+----+-------------------+----+----+----+----+----+----+----+----+----+----+----+\n",
            "|  0|Cristiano Ronaldo| 32|https://cdn.sofif...|   Portugal|https://cdn.sofif...|     94|       94|Real Madrid CF|https://cdn.sofif...|€95.5M|€565K|   2228|          89|        63|     89|     63|          93|       95|      85|   81|       91|       94|                76|        7|         11|        15|            14|         11|              88|           29|     95|          77|        92|     22|       85|         95|       96|           83|        94|            23|          91|     92|             31|      80|    85|     88|89.0|53.0|62.0|91.0|82.0|20801|89.0|61.0|53.0|82.0|62.0|91.0|89.0|92.0|91.0|66.0|             ST LW |89.0|61.0|53.0|82.0|62.0|91.0|89.0|92.0|91.0|66.0|92.0|\n",
            "+---+-----------------+---+--------------------+-----------+--------------------+-------+---------+--------------+--------------------+------+-----+-------+------------+----------+-------+-------+------------+---------+--------+-----+---------+---------+------------------+---------+-----------+----------+--------------+-----------+----------------+-------------+-------+------------+----------+-------+---------+-----------+---------+-------------+----------+--------------+------------+-------+---------------+--------+------+-------+----+----+----+----+----+-----+----+----+----+----+----+----+----+----+----+----+-------------------+----+----+----+----+----+----+----+----+----+----+----+\n",
            "only showing top 1 row\n",
            "\n",
            "CPU times: user 84.3 ms, sys: 14.4 ms, total: 98.7 ms\n",
            "Wall time: 13.1 s\n"
          ]
        }
      ]
    },
    {
      "cell_type": "code",
      "source": [
        "%%time\n",
        "#using csv\n",
        "df2 = spark.read.csv(\"/content/CompleteDataset.csv\",inferSchema=\"True\",header=\"True\")\n",
        "df2.show(10)"
      ],
      "metadata": {
        "id": "qFhpwWe7rgSv",
        "colab": {
          "base_uri": "https://localhost:8080/"
        },
        "outputId": "6d35c111-a5a8-4436-873d-88298bef5145"
      },
      "execution_count": 5,
      "outputs": [
        {
          "output_type": "stream",
          "name": "stdout",
          "text": [
            "+---+-----------------+---+--------------------+-----------+--------------------+-------+---------+-------------------+--------------------+------+-----+-------+------------+----------+-------+-------+------------+---------+--------+-----+---------+---------+------------------+---------+-----------+----------+--------------+-----------+----------------+-------------+-------+------------+----------+-------+---------+-----------+---------+-------------+----------+--------------+------------+-------+---------------+--------+------+-------+----+----+----+----+----+------+----+----+----+----+----+----+----+----+----+----+-------------------+----+----+----+----+----+----+----+----+----+----+----+\n",
            "|_c0|             Name|Age|               Photo|Nationality|                Flag|Overall|Potential|               Club|           Club Logo| Value| Wage|Special|Acceleration|Aggression|Agility|Balance|Ball control|Composure|Crossing|Curve|Dribbling|Finishing|Free kick accuracy|GK diving|GK handling|GK kicking|GK positioning|GK reflexes|Heading accuracy|Interceptions|Jumping|Long passing|Long shots|Marking|Penalties|Positioning|Reactions|Short passing|Shot power|Sliding tackle|Sprint speed|Stamina|Standing tackle|Strength|Vision|Volleys| CAM|  CB| CDM|  CF|  CM|    ID| LAM|  LB| LCB| LCM| LDM|  LF|  LM|  LS|  LW| LWB|Preferred Positions| RAM|  RB| RCB| RCM| RDM|  RF|  RM|  RS|  RW| RWB|  ST|\n",
            "+---+-----------------+---+--------------------+-----------+--------------------+-------+---------+-------------------+--------------------+------+-----+-------+------------+----------+-------+-------+------------+---------+--------+-----+---------+---------+------------------+---------+-----------+----------+--------------+-----------+----------------+-------------+-------+------------+----------+-------+---------+-----------+---------+-------------+----------+--------------+------------+-------+---------------+--------+------+-------+----+----+----+----+----+------+----+----+----+----+----+----+----+----+----+----+-------------------+----+----+----+----+----+----+----+----+----+----+----+\n",
            "|  0|Cristiano Ronaldo| 32|https://cdn.sofif...|   Portugal|https://cdn.sofif...|     94|       94|     Real Madrid CF|https://cdn.sofif...|€95.5M|€565K|   2228|          89|        63|     89|     63|          93|       95|      85|   81|       91|       94|                76|        7|         11|        15|            14|         11|              88|           29|     95|          77|        92|     22|       85|         95|       96|           83|        94|            23|          91|     92|             31|      80|    85|     88|89.0|53.0|62.0|91.0|82.0| 20801|89.0|61.0|53.0|82.0|62.0|91.0|89.0|92.0|91.0|66.0|             ST LW |89.0|61.0|53.0|82.0|62.0|91.0|89.0|92.0|91.0|66.0|92.0|\n",
            "|  1|         L. Messi| 30|https://cdn.sofif...|  Argentina|https://cdn.sofif...|     93|       93|       FC Barcelona|https://cdn.sofif...| €105M|€565K|   2154|          92|        48|     90|     95|          95|       96|      77|   89|       97|       95|                90|        6|         11|        15|            14|          8|              71|           22|     68|          87|        88|     13|       74|         93|       95|           88|        85|            26|          87|     73|             28|      59|    90|     85|92.0|45.0|59.0|92.0|84.0|158023|92.0|57.0|45.0|84.0|59.0|92.0|90.0|88.0|91.0|62.0|                RW |92.0|57.0|45.0|84.0|59.0|92.0|90.0|88.0|91.0|62.0|88.0|\n",
            "|  2|           Neymar| 25|https://cdn.sofif...|     Brazil|https://cdn.sofif...|     92|       94|Paris Saint-Germain|https://cdn.sofif...| €123M|€280K|   2100|          94|        56|     96|     82|          95|       92|      75|   81|       96|       89|                84|        9|          9|        15|            15|         11|              62|           36|     61|          75|        77|     21|       81|         90|       88|           81|        80|            33|          90|     78|             24|      53|    80|     83|88.0|46.0|59.0|88.0|79.0|190871|88.0|59.0|46.0|79.0|59.0|88.0|87.0|84.0|89.0|64.0|                LW |88.0|59.0|46.0|79.0|59.0|88.0|87.0|84.0|89.0|64.0|84.0|\n",
            "|  3|        L. Suárez| 30|https://cdn.sofif...|    Uruguay|https://cdn.sofif...|     92|       92|       FC Barcelona|https://cdn.sofif...|  €97M|€510K|   2291|          88|        78|     86|     60|          91|       83|      77|   86|       86|       94|                84|       27|         25|        31|            33|         37|              77|           41|     69|          64|        86|     30|       85|         92|       93|           83|        87|            38|          77|     89|             45|      80|    84|     88|87.0|58.0|65.0|88.0|80.0|176580|87.0|64.0|58.0|80.0|65.0|88.0|85.0|88.0|87.0|68.0|                ST |87.0|64.0|58.0|80.0|65.0|88.0|85.0|88.0|87.0|68.0|88.0|\n",
            "|  4|         M. Neuer| 31|https://cdn.sofif...|    Germany|https://cdn.sofif...|     92|       92|   FC Bayern Munich|https://cdn.sofif...|  €61M|€230K|   1493|          58|        29|     52|     35|          48|       70|      15|   14|       30|       13|                11|       91|         90|        95|            91|         89|              25|           30|     78|          59|        16|     10|       47|         12|       85|           55|        25|            11|          61|     44|             10|      83|    70|     11|null|null|null|null|null|167495|null|null|null|null|null|null|null|null|null|null|                GK |null|null|null|null|null|null|null|null|null|null|null|\n",
            "|  5|   R. Lewandowski| 28|https://cdn.sofif...|     Poland|https://cdn.sofif...|     91|       91|   FC Bayern Munich|https://cdn.sofif...|  €92M|€355K|   2143|          79|        80|     78|     80|          89|       87|      62|   77|       85|       91|                84|       15|          6|        12|             8|         10|              85|           39|     84|          65|        83|     25|       81|         91|       91|           83|        88|            19|          83|     79|             42|      84|    78|     87|84.0|57.0|62.0|87.0|78.0|188545|84.0|58.0|57.0|78.0|62.0|87.0|82.0|88.0|84.0|61.0|                ST |84.0|58.0|57.0|78.0|62.0|87.0|82.0|88.0|84.0|61.0|88.0|\n",
            "|  6|           De Gea| 26|https://cdn.sofif...|      Spain|https://cdn.sofif...|     90|       92|  Manchester United|https://cdn.sofif...|€64.5M|€215K|   1458|          57|        38|     60|     43|          42|       64|      17|   21|       18|       13|                19|       90|         85|        87|            86|         90|              21|           30|     67|          51|        12|     13|       40|         12|       88|           50|        31|            13|          58|     40|             21|      64|    68|     13|null|null|null|null|null|193080|null|null|null|null|null|null|null|null|null|null|                GK |null|null|null|null|null|null|null|null|null|null|null|\n",
            "|  7|        E. Hazard| 26|https://cdn.sofif...|    Belgium|https://cdn.sofif...|     90|       91|            Chelsea|https://cdn.sofif...|€90.5M|€295K|   2096|          93|        54|     93|     91|          92|       87|      80|   82|       93|       83|                79|       11|         12|         6|             8|          8|              57|           41|     59|          81|        82|     25|       86|         85|       85|           86|        79|            22|          87|     79|             27|      65|    86|     79|88.0|47.0|61.0|87.0|81.0|183277|88.0|59.0|47.0|81.0|61.0|87.0|87.0|82.0|88.0|64.0|                LW |88.0|59.0|47.0|81.0|61.0|87.0|87.0|82.0|88.0|64.0|82.0|\n",
            "|  8|         T. Kroos| 27|https://cdn.sofif...|    Germany|https://cdn.sofif...|     90|       90|     Real Madrid CF|https://cdn.sofif...|  €79M|€340K|   2165|          60|        60|     71|     69|          89|       85|      85|   85|       79|       76|                84|       10|         11|        13|             7|         10|              54|           85|     32|          93|        90|     63|       73|         79|       86|           90|        87|            69|          52|     77|             82|      74|    88|     82|83.0|72.0|82.0|81.0|87.0|182521|83.0|76.0|72.0|87.0|82.0|81.0|81.0|77.0|80.0|78.0|            CDM CM |83.0|76.0|72.0|87.0|82.0|81.0|81.0|77.0|80.0|78.0|77.0|\n",
            "|  9|       G. Higuaín| 29|https://cdn.sofif...|  Argentina|https://cdn.sofif...|     90|       90|           Juventus|https://cdn.sofif...|  €77M|€275K|   1961|          78|        50|     75|     69|          85|       86|      68|   74|       84|       91|                62|        5|         12|         7|             5|         10|              86|           20|     79|          59|        82|     12|       70|         92|       88|           75|        88|            18|          80|     72|             22|      85|    70|     88|81.0|46.0|52.0|84.0|71.0|167664|81.0|51.0|46.0|71.0|52.0|84.0|79.0|87.0|82.0|55.0|                ST |81.0|51.0|46.0|71.0|52.0|84.0|79.0|87.0|82.0|55.0|87.0|\n",
            "+---+-----------------+---+--------------------+-----------+--------------------+-------+---------+-------------------+--------------------+------+-----+-------+------------+----------+-------+-------+------------+---------+--------+-----+---------+---------+------------------+---------+-----------+----------+--------------+-----------+----------------+-------------+-------+------------+----------+-------+---------+-----------+---------+-------------+----------+--------------+------------+-------+---------------+--------+------+-------+----+----+----+----+----+------+----+----+----+----+----+----+----+----+----+----+-------------------+----+----+----+----+----+----+----+----+----+----+----+\n",
            "only showing top 10 rows\n",
            "\n",
            "CPU times: user 21.1 ms, sys: 3.73 ms, total: 24.8 ms\n",
            "Wall time: 2.56 s\n"
          ]
        }
      ]
    },
    {
      "cell_type": "code",
      "source": [
        "# How many partitions in DF?\n",
        "df1.rdd.getNumPartitions()"
      ],
      "metadata": {
        "colab": {
          "base_uri": "https://localhost:8080/"
        },
        "id": "YW9DeKkRr5k0",
        "outputId": "ebae11cc-9139-40d6-af10-831b7ebe9cbb"
      },
      "execution_count": 6,
      "outputs": [
        {
          "output_type": "execute_result",
          "data": {
            "text/plain": [
              "2"
            ]
          },
          "metadata": {},
          "execution_count": 6
        }
      ]
    },
    {
      "cell_type": "code",
      "source": [
        "# Increase/Desrease the partitions in DF\n",
        "df_rep_inc=df1.repartition(10)\n",
        "print(df_rep_inc.rdd.getNumPartitions())\n",
        "df_rep_dec=df1.repartition(1)\n",
        "print(df_rep_dec.rdd.getNumPartitions())\n",
        "df_rep_inc.show(1)"
      ],
      "metadata": {
        "colab": {
          "base_uri": "https://localhost:8080/"
        },
        "id": "JTqLGIjTtG2q",
        "outputId": "a05c6ac3-3dcb-4882-a77c-bcfd5fb7ed02"
      },
      "execution_count": 7,
      "outputs": [
        {
          "output_type": "stream",
          "name": "stdout",
          "text": [
            "10\n",
            "1\n",
            "+---+----------+---+--------------------+-----------+--------------------+-------+---------+--------------+--------------------+-----+----+-------+------------+----------+-------+-------+------------+---------+--------+-----+---------+---------+------------------+---------+-----------+----------+--------------+-----------+----------------+-------------+-------+------------+----------+-------+---------+-----------+---------+-------------+----------+--------------+------------+-------+---------------+--------+------+-------+----+----+----+----+----+------+----+----+----+----+----+----+----+----+----+----+-------------------+----+----+----+----+----+----+----+----+----+----+----+\n",
            "|_c0|      Name|Age|               Photo|Nationality|                Flag|Overall|Potential|          Club|           Club Logo|Value|Wage|Special|Acceleration|Aggression|Agility|Balance|Ball control|Composure|Crossing|Curve|Dribbling|Finishing|Free kick accuracy|GK diving|GK handling|GK kicking|GK positioning|GK reflexes|Heading accuracy|Interceptions|Jumping|Long passing|Long shots|Marking|Penalties|Positioning|Reactions|Short passing|Shot power|Sliding tackle|Sprint speed|Stamina|Standing tackle|Strength|Vision|Volleys| CAM|  CB| CDM|  CF|  CM|    ID| LAM|  LB| LCB| LCM| LDM|  LF|  LM|  LS|  LW| LWB|Preferred Positions| RAM|  RB| RCB| RCM| RDM|  RF|  RM|  RS|  RW| RWB|  ST|\n",
            "+---+----------+---+--------------------+-----------+--------------------+-------+---------+--------------+--------------------+-----+----+-------+------------+----------+-------+-------+------------+---------+--------+-----+---------+---------+------------------+---------+-----------+----------+--------------+-----------+----------------+-------------+-------+------------+----------+-------+---------+-----------+---------+-------------+----------+--------------+------------+-------+---------------+--------+------+-------+----+----+----+----+----+------+----+----+----+----+----+----+----+----+----+----+-------------------+----+----+----+----+----+----+----+----+----+----+----+\n",
            "|677|A. Samedov| 32|https://cdn.sofif...|     Russia|https://cdn.sofif...|     79|       79|Spartak Moscow|https://cdn.sofif...| €10M|€74K|   2043|          81|        73|     78|     73|          78|       74|      80|   86|       74|       74|                79|        8|          8|         8|            11|         12|              59|           42|     64|          69|        75|     52|       81|         77|       78|           80|        73|            47|          80|     82|             52|      68|    80|     61|77.0|59.0|65.0|77.0|74.0|147621|77.0|65.0|59.0|74.0|65.0|77.0|78.0|74.0|78.0|67.0|                RM |77.0|65.0|59.0|74.0|65.0|77.0|78.0|74.0|78.0|67.0|74.0|\n",
            "+---+----------+---+--------------------+-----------+--------------------+-------+---------+--------------+--------------------+-----+----+-------+------------+----------+-------+-------+------------+---------+--------+-----+---------+---------+------------------+---------+-----------+----------+--------------+-----------+----------------+-------------+-------+------------+----------+-------+---------+-----------+---------+-------------+----------+--------------+------------+-------+---------------+--------+------+-------+----+----+----+----+----+------+----+----+----+----+----+----+----+----+----+----+-------------------+----+----+----+----+----+----+----+----+----+----+----+\n",
            "only showing top 1 row\n",
            "\n"
          ]
        }
      ]
    },
    {
      "cell_type": "code",
      "source": [
        "# Rename Columns and Amend NULLs:\n",
        "\n",
        "df_rep_inc = df_rep_inc.withColumnRenamed(\"_c0\",\"ID\")\\\n",
        ".withColumnRenamed(\"Ball control\", \"Ball_Control\")\\\n",
        ".withColumnRenamed(\"Sliding tackle\", \"Sliding_Tackle\")\n"
      ],
      "metadata": {
        "id": "eTLAH5EbtrzR",
        "colab": {
          "base_uri": "https://localhost:8080/",
          "height": 236
        },
        "outputId": "f0040ba8-31c7-432c-c896-c54680e45ee7"
      },
      "execution_count": 2,
      "outputs": [
        {
          "output_type": "error",
          "ename": "NameError",
          "evalue": "ignored",
          "traceback": [
            "\u001b[0;31m---------------------------------------------------------------------------\u001b[0m",
            "\u001b[0;31mNameError\u001b[0m                                 Traceback (most recent call last)",
            "\u001b[0;32m<ipython-input-2-04976310abd7>\u001b[0m in \u001b[0;36m<module>\u001b[0;34m\u001b[0m\n\u001b[1;32m      1\u001b[0m \u001b[0;31m# Rename Columns and Amend NULLs:\u001b[0m\u001b[0;34m\u001b[0m\u001b[0;34m\u001b[0m\u001b[0;34m\u001b[0m\u001b[0m\n\u001b[1;32m      2\u001b[0m \u001b[0;34m\u001b[0m\u001b[0m\n\u001b[0;32m----> 3\u001b[0;31m \u001b[0mdf_rep_inc\u001b[0m \u001b[0;34m=\u001b[0m \u001b[0mdf_rep_inc\u001b[0m\u001b[0;34m.\u001b[0m\u001b[0mwithColumnRenamed\u001b[0m\u001b[0;34m(\u001b[0m\u001b[0;34m\"_c0\"\u001b[0m\u001b[0;34m,\u001b[0m\u001b[0;34m\"ID\"\u001b[0m\u001b[0;34m)\u001b[0m\u001b[0;31m\\\u001b[0m\u001b[0;34m\u001b[0m\u001b[0;34m\u001b[0m\u001b[0m\n\u001b[0m\u001b[1;32m      4\u001b[0m \u001b[0;34m.\u001b[0m\u001b[0mwithColumnRenamed\u001b[0m\u001b[0;34m(\u001b[0m\u001b[0;34m\"Ball control\"\u001b[0m\u001b[0;34m,\u001b[0m \u001b[0;34m\"Ball_Control\"\u001b[0m\u001b[0;34m)\u001b[0m\u001b[0;31m\\\u001b[0m\u001b[0;34m\u001b[0m\u001b[0;34m\u001b[0m\u001b[0m\n\u001b[1;32m      5\u001b[0m \u001b[0;34m.\u001b[0m\u001b[0mwithColumnRenamed\u001b[0m\u001b[0;34m(\u001b[0m\u001b[0;34m\"Sliding tackle\"\u001b[0m\u001b[0;34m,\u001b[0m \u001b[0;34m\"Sliding_Tackle\"\u001b[0m\u001b[0;34m)\u001b[0m\u001b[0;34m\u001b[0m\u001b[0;34m\u001b[0m\u001b[0m\n",
            "\u001b[0;31mNameError\u001b[0m: name 'df_rep_inc' is not defined"
          ]
        }
      ]
    },
    {
      "cell_type": "code",
      "source": [
        "df_rep_inc.show(1)"
      ],
      "metadata": {
        "colab": {
          "base_uri": "https://localhost:8080/"
        },
        "id": "FhNhcyuVvjnE",
        "outputId": "b999c261-4e32-43a3-b433-3f372ed7d481"
      },
      "execution_count": 9,
      "outputs": [
        {
          "output_type": "stream",
          "name": "stdout",
          "text": [
            "+---+----------+---+--------------------+-----------+--------------------+-------+---------+--------------+--------------------+-----+----+-------+------------+----------+-------+-------+------------+---------+--------+-----+---------+---------+------------------+---------+-----------+----------+--------------+-----------+----------------+-------------+-------+------------+----------+-------+---------+-----------+---------+-------------+----------+--------------+------------+-------+---------------+--------+------+-------+----+----+----+----+----+------+----+----+----+----+----+----+----+----+----+----+-------------------+----+----+----+----+----+----+----+----+----+----+----+\n",
            "| ID|      Name|Age|               Photo|Nationality|                Flag|Overall|Potential|          Club|           Club Logo|Value|Wage|Special|Acceleration|Aggression|Agility|Balance|Ball_Control|Composure|Crossing|Curve|Dribbling|Finishing|Free kick accuracy|GK diving|GK handling|GK kicking|GK positioning|GK reflexes|Heading accuracy|Interceptions|Jumping|Long passing|Long shots|Marking|Penalties|Positioning|Reactions|Short passing|Shot power|Sliding_Tackle|Sprint speed|Stamina|Standing tackle|Strength|Vision|Volleys| CAM|  CB| CDM|  CF|  CM|    ID| LAM|  LB| LCB| LCM| LDM|  LF|  LM|  LS|  LW| LWB|Preferred Positions| RAM|  RB| RCB| RCM| RDM|  RF|  RM|  RS|  RW| RWB|  ST|\n",
            "+---+----------+---+--------------------+-----------+--------------------+-------+---------+--------------+--------------------+-----+----+-------+------------+----------+-------+-------+------------+---------+--------+-----+---------+---------+------------------+---------+-----------+----------+--------------+-----------+----------------+-------------+-------+------------+----------+-------+---------+-----------+---------+-------------+----------+--------------+------------+-------+---------------+--------+------+-------+----+----+----+----+----+------+----+----+----+----+----+----+----+----+----+----+-------------------+----+----+----+----+----+----+----+----+----+----+----+\n",
            "|677|A. Samedov| 32|https://cdn.sofif...|     Russia|https://cdn.sofif...|     79|       79|Spartak Moscow|https://cdn.sofif...| €10M|€74K|   2043|          81|        73|     78|     73|          78|       74|      80|   86|       74|       74|                79|        8|          8|         8|            11|         12|              59|           42|     64|          69|        75|     52|       81|         77|       78|           80|        73|            47|          80|     82|             52|      68|    80|     61|77.0|59.0|65.0|77.0|74.0|147621|77.0|65.0|59.0|74.0|65.0|77.0|78.0|74.0|78.0|67.0|                RM |77.0|65.0|59.0|74.0|65.0|77.0|78.0|74.0|78.0|67.0|74.0|\n",
            "+---+----------+---+--------------------+-----------+--------------------+-------+---------+--------------+--------------------+-----+----+-------+------------+----------+-------+-------+------------+---------+--------+-----+---------+---------+------------------+---------+-----------+----------+--------------+-----------+----------------+-------------+-------+------------+----------+-------+---------+-----------+---------+-------------+----------+--------------+------------+-------+---------------+--------+------+-------+----+----+----+----+----+------+----+----+----+----+----+----+----+----+----+----+-------------------+----+----+----+----+----+----+----+----+----+----+----+\n",
            "only showing top 1 row\n",
            "\n"
          ]
        }
      ]
    },
    {
      "cell_type": "code",
      "source": [
        "#from pyspark.sql.functions import col\n",
        "print(df_rep_inc)\n",
        "df_rep_inc.select(\"Name\",\"Age\").show(2)"
      ],
      "metadata": {
        "colab": {
          "base_uri": "https://localhost:8080/"
        },
        "id": "SOO8gvZvv7P6",
        "outputId": "b46c1910-af19-4ad8-b6ed-959be4f4f04e"
      },
      "execution_count": 10,
      "outputs": [
        {
          "output_type": "stream",
          "name": "stdout",
          "text": [
            "DataFrame[ID: int, Name: string, Age: int, Photo: string, Nationality: string, Flag: string, Overall: int, Potential: int, Club: string, Club Logo: string, Value: string, Wage: string, Special: int, Acceleration: string, Aggression: string, Agility: string, Balance: string, Ball_Control: string, Composure: string, Crossing: string, Curve: string, Dribbling: string, Finishing: string, Free kick accuracy: string, GK diving: string, GK handling: string, GK kicking: string, GK positioning: string, GK reflexes: string, Heading accuracy: string, Interceptions: string, Jumping: string, Long passing: string, Long shots: string, Marking: string, Penalties: string, Positioning: string, Reactions: string, Short passing: string, Shot power: string, Sliding_Tackle: string, Sprint speed: string, Stamina: string, Standing tackle: string, Strength: string, Vision: string, Volleys: string, CAM: double, CB: double, CDM: double, CF: double, CM: double, ID: int, LAM: double, LB: double, LCB: double, LCM: double, LDM: double, LF: double, LM: double, LS: double, LW: double, LWB: double, Preferred Positions: string, RAM: double, RB: double, RCB: double, RCM: double, RDM: double, RF: double, RM: double, RS: double, RW: double, RWB: double, ST: double]\n",
            "+------------+---+\n",
            "|        Name|Age|\n",
            "+------------+---+\n",
            "|  E. Quejeda| 29|\n",
            "|L. Escalante| 25|\n",
            "+------------+---+\n",
            "only showing top 2 rows\n",
            "\n"
          ]
        }
      ]
    },
    {
      "cell_type": "code",
      "source": [
        "# Reading delimited files\n",
        "\n",
        "df_dat = spark.read.csv(\"/content/file.dat\",sep='~',header='True',inferSchema=\"True\")\n",
        "df_dat.show()"
      ],
      "metadata": {
        "colab": {
          "base_uri": "https://localhost:8080/"
        },
        "id": "losFQpfuDBOz",
        "outputId": "aa154cb8-63c7-437e-d794-f5551a43e58a"
      },
      "execution_count": 12,
      "outputs": [
        {
          "output_type": "stream",
          "name": "stdout",
          "text": [
            "+-------+---+----------+\n",
            "|   Name|Age|       DOB|\n",
            "+-------+---+----------+\n",
            "|Bharath| 25|24/10/1998|\n",
            "|Sharath| 30|25/12/1992|\n",
            "+-------+---+----------+\n",
            "\n"
          ]
        }
      ]
    },
    {
      "cell_type": "code",
      "source": [
        "#Amend NULLs:\n",
        "df2 = df_rep_inc\n",
        "df2.show()\n",
        "df2.show(3)\n",
        "df2.na.fill({\"RAM\": 10, \"RB\": 1,'RCB':10}).show(3)"
      ],
      "metadata": {
        "colab": {
          "base_uri": "https://localhost:8080/"
        },
        "id": "m2rUvdtHFzPF",
        "outputId": "cc5efd95-8ff0-44dc-b147-293daede212e"
      },
      "execution_count": 13,
      "outputs": [
        {
          "output_type": "stream",
          "name": "stdout",
          "text": [
            "+-----+--------------+---+--------------------+--------------+--------------------+-------+---------+--------------------+--------------------+------+-----+-------+------------+----------+-------+-------+------------+---------+--------+-----+---------+---------+------------------+---------+-----------+----------+--------------+-----------+----------------+-------------+-------+------------+----------+-------+---------+-----------+---------+-------------+----------+--------------+------------+-------+---------------+--------+------+-------+----+----+----+----+----+------+----+----+----+----+----+----+----+----+----+----+-------------------+----+----+----+----+----+----+----+----+----+----+----+\n",
            "|   ID|          Name|Age|               Photo|   Nationality|                Flag|Overall|Potential|                Club|           Club Logo| Value| Wage|Special|Acceleration|Aggression|Agility|Balance|Ball_Control|Composure|Crossing|Curve|Dribbling|Finishing|Free kick accuracy|GK diving|GK handling|GK kicking|GK positioning|GK reflexes|Heading accuracy|Interceptions|Jumping|Long passing|Long shots|Marking|Penalties|Positioning|Reactions|Short passing|Shot power|Sliding_Tackle|Sprint speed|Stamina|Standing tackle|Strength|Vision|Volleys| CAM|  CB| CDM|  CF|  CM|    ID| LAM|  LB| LCB| LCM| LDM|  LF|  LM|  LS|  LW| LWB|Preferred Positions| RAM|  RB| RCB| RCM| RDM|  RF|  RM|  RS|  RW| RWB|  ST|\n",
            "+-----+--------------+---+--------------------+--------------+--------------------+-------+---------+--------------------+--------------------+------+-----+-------+------------+----------+-------+-------+------------+---------+--------+-----+---------+---------+------------------+---------+-----------+----------+--------------+-----------+----------------+-------------+-------+------------+----------+-------+---------+-----------+---------+-------------+----------+--------------+------------+-------+---------------+--------+------+-------+----+----+----+----+----+------+----+----+----+----+----+----+----+----+----+----+-------------------+----+----+----+----+----+----+----+----+----+----+----+\n",
            "|  677|    A. Samedov| 32|https://cdn.sofif...|        Russia|https://cdn.sofif...|     79|       79|      Spartak Moscow|https://cdn.sofif...|  €10M| €74K|   2043|          81|        73|     78|     73|          78|       74|      80|   86|       74|       74|                79|        8|          8|         8|            11|         12|              59|           42|     64|          69|        75|     52|       81|         77|       78|           80|        73|            47|          80|     82|             52|      68|    80|     61|77.0|59.0|65.0|77.0|74.0|147621|77.0|65.0|59.0|74.0|65.0|77.0|78.0|74.0|78.0|67.0|                RM |77.0|65.0|59.0|74.0|65.0|77.0|78.0|74.0|78.0|67.0|74.0|\n",
            "| 7502|     J. Michel| 25|https://cdn.sofif...|        France|https://cdn.sofif...|     68|       71|    Sporting Lokeren|https://cdn.sofif...| €1.1M|  €9K|   1805|          47|        58|     71|     70|          70|       73|      71|   73|       65|       51|                71|       13|          9|        14|            14|         12|              56|           66|     48|          73|        71|     46|       66|         57|       65|           71|        69|            54|          42|     67|             56|      56|    67|     66|65.0|57.0|63.0|62.0|67.0|212169|65.0|60.0|57.0|67.0|63.0|62.0|63.0|60.0|63.0|62.0|     LM CAM CDM CM |65.0|60.0|57.0|67.0|63.0|62.0|63.0|60.0|63.0|62.0|60.0|\n",
            "| 4010|  Lee Ho Seung| 27|https://cdn.sofif...|Korea Republic|https://cdn.sofif...|     72|       72|     Jeonnam Dragons|https://cdn.sofif...| €2.1M|  €4K|   1034|          33|        16|     36|     35|          18|       31|      10|   12|       11|       18|                14|       73|         72|        63|            70|         74|              13|           21|     41|          15|        16|     17|       16|         18|       68|           25|        20|            12|          23|     26|             10|      64|    57|     17|null|null|null|null|null|232191|null|null|null|null|null|null|null|null|null|null|                GK |null|null|null|null|null|null|null|null|null|null|null|\n",
            "| 6191|     M. Martin| 28|https://cdn.sofif...|        France|https://cdn.sofif...|     69|       69| Heart of Midlothian|https://cdn.sofif...|   €1M|  €6K|   1878|          54|        68|     67|     72|          66|       61|      69|   57|       56|       60|                70|        7|          9|        13|            10|          9|              64|           68|     74|          72|        70|     54|       74|         59|       67|           74|        66|            67|          46|     76|             68|      74|    67|     51|65.0|66.0|68.0|62.0|68.0|177017|65.0|65.0|66.0|68.0|68.0|62.0|64.0|62.0|62.0|66.0|        CDM CAM CM |65.0|65.0|66.0|68.0|68.0|62.0|64.0|62.0|62.0|66.0|62.0|\n",
            "| 6225|   R. Stearman| 29|https://cdn.sofif...|       England|https://cdn.sofif...|     69|       69|    Sheffield United|https://cdn.sofif...| €825K| €24K|   1569|          53|        79|     58|     50|          57|       46|      45|   32|       45|       33|                33|        9|         10|        11|            16|          6|              68|           67|     70|          53|        43|     66|       48|         42|       66|           63|        50|            68|          54|     66|             67|      75|    36|     30|50.0|68.0|64.0|49.0|54.0|155524|50.0|62.0|68.0|54.0|64.0|49.0|51.0|51.0|49.0|61.0|                CB |50.0|62.0|68.0|54.0|64.0|49.0|51.0|51.0|49.0|61.0|51.0|\n",
            "| 2357|     V. Bessat| 31|https://cdn.sofif...|        France|https://cdn.sofif...|     74|       74|             SM Caen|https://cdn.sofif...| €4.9M| €23K|   1956|          75|        62|     76|     74|          75|       71|      79|   54|       75|       58|                57|        6|         16|        10|            12|          9|              53|           46|     73|          75|        71|     71|       58|         70|       76|           75|        67|            69|          72|     64|             72|      70|    74|     62|73.0|66.0|68.0|71.0|72.0|184706|73.0|69.0|66.0|72.0|68.0|71.0|73.0|68.0|73.0|70.0|             LB LM |73.0|69.0|66.0|72.0|68.0|71.0|73.0|68.0|73.0|70.0|68.0|\n",
            "| 2634|S. Palitsevich| 27|https://cdn.sofif...|       Belarus|https://cdn.sofif...|     73|       73|   Gençlerbirliği SK|https://cdn.sofif...| €3.4M| €17K|   1659|          62|        70|     62|     58|          58|       60|      36|   52|       44|       24|                68|       14|          7|        14|             8|          6|              76|           72|     72|          68|        43|     70|       52|         30|       68|           66|        46|            68|          67|     69|             75|      78|    37|     19|51.0|72.0|68.0|48.0|57.0|187655|51.0|66.0|72.0|57.0|68.0|48.0|51.0|49.0|48.0|63.0|                CB |51.0|66.0|72.0|57.0|68.0|48.0|51.0|49.0|48.0|63.0|49.0|\n",
            "|  846|    I. Afellay| 31|https://cdn.sofif...|   Netherlands|https://cdn.sofif...|     78|       78|          Stoke City|https://cdn.sofif...|   €9M| €68K|   2027|          76|        59|     76|     77|          82|       78|      78|   79|       80|       71|                75|       14|          7|        10|            12|          8|              46|           62|     75|          74|        76|     36|       70|         73|       75|           81|        75|            58|          74|     70|             67|      64|    75|     72|77.0|60.0|68.0|76.0|76.0|158372|77.0|67.0|60.0|76.0|68.0|76.0|77.0|72.0|77.0|69.0|     CDM LM CM CAM |77.0|67.0|60.0|76.0|68.0|76.0|77.0|72.0|77.0|69.0|72.0|\n",
            "| 4044|  O. Deschacht| 36|https://cdn.sofif...|       Belgium|https://cdn.sofif...|     71|       71|      RSC Anderlecht|https://cdn.sofif...| €325K| €10K|   1634|          47|        67|     55|     59|          62|       77|      64|   42|       47|       37|                31|        6|         14|        10|            12|          6|              71|           80|     55|          60|        52|     71|       36|         47|       65|           65|        62|            70|          49|     65|             72|      72|    57|     26|55.0|70.0|68.0|54.0|61.0| 49161|55.0|67.0|70.0|61.0|68.0|54.0|56.0|54.0|54.0|66.0|             LB CB |55.0|67.0|70.0|61.0|68.0|54.0|56.0|54.0|54.0|66.0|54.0|\n",
            "| 7996|Wilsson Rosito| 33|https://cdn.sofif...|        Brazil|https://cdn.sofif...|     67|       67|Associação Chapec...|https://cdn.sofif...| €475K| €10K|   1726|          78|        44|     81|     77|          72|       62|      73|   77|       71|       45|                75|        9|          8|         7|             9|          7|              55|           44|     56|          76|        61|     31|       67|         67|       59|           66|        72|            22|          67|     62|             22|      61|    58|     47|66.0|43.0|52.0|65.0|63.0|230471|66.0|50.0|43.0|63.0|52.0|65.0|67.0|62.0|66.0|54.0|            LM CAM |66.0|50.0|43.0|63.0|52.0|65.0|67.0|62.0|66.0|54.0|62.0|\n",
            "| 3211|     J. Börner| 26|https://cdn.sofif...|       Germany|https://cdn.sofif...|     73|       73|DSC Arminia Biele...|https://cdn.sofif...| €3.5M|  €9K|   1806|          61|        77|     61|     57|          56|       59|      49|   58|       55|       56|                50|        7|         13|        12|            15|         16|              75|           72|     88|          53|        54|     75|       62|         47|       64|           59|        70|            67|          66|     71|             71|      82|    46|     41|55.0|72.0|66.0|57.0|57.0|194015|55.0|66.0|72.0|57.0|66.0|57.0|56.0|60.0|56.0|64.0|                CB |55.0|66.0|72.0|57.0|66.0|57.0|56.0|60.0|56.0|64.0|60.0|\n",
            "|10009|     N. Körber| 20|https://cdn.sofif...|       Germany|https://cdn.sofif...|     65|       77|  SC Preußen Münster|https://cdn.sofif...| €775K|  €4K|   1015|          33|        22|     46|     43|          20|       25|      13|   13|       18|       11|                14|       65|         63|        63|            63|         67|              17|           14|     63|          24|        16|     13|       15|         12|       61|           24|        20|            14|          37|     28|             13|      55|    21|     14|null|null|null|null|null|219937|null|null|null|null|null|null|null|null|null|null|                GK |null|null|null|null|null|null|null|null|null|null|null|\n",
            "| 7871|        Gerson| 20|https://cdn.sofif...|        Brazil|https://cdn.sofif...|     67|       80|                Roma|https://cdn.sofif...| €1.5M| €24K|   1701|          71|        40|     75|     79|          78|       61|      61|   73|       74|       59|                47|       14|         13|        13|             9|          9|              44|           35|     62|          72|        49|     32|       55|         57|       60|           74|        59|            35|          67|     67|             38|      59|    67|     54|68.0|45.0|55.0|66.0|66.0|229927|68.0|52.0|45.0|66.0|55.0|66.0|68.0|62.0|67.0|56.0|                CM |68.0|52.0|45.0|66.0|55.0|66.0|68.0|62.0|67.0|56.0|62.0|\n",
            "| 4975|     M. Batdal| 31|https://cdn.sofif...|        Turkey|https://cdn.sofif...|     70|       70|İstanbul Başakşeh...|https://cdn.sofif...| €1.6M| €19K|   1571|          45|        54|     30|     36|          69|       60|      41|   58|       63|       72|                42|        8|         12|        11|            12|          8|              76|           21|     34|          53|        63|     31|       65|         74|       71|           66|        75|            21|          38|     72|             32|      88|    60|     70|63.0|46.0|50.0|66.0|61.0|199201|63.0|44.0|46.0|61.0|50.0|66.0|61.0|69.0|61.0|46.0|                ST |63.0|44.0|46.0|61.0|50.0|66.0|61.0|69.0|61.0|46.0|69.0|\n",
            "| 2921|   H. González| 26|https://cdn.sofif...|        Mexico|https://cdn.sofif...|     73|       76|           Monterrey|https://cdn.sofif...| €3.5M| €36K|   1195|          32|        27|     47|     41|          19|       40|      11|   25|       16|       11|                13|       74|         73|        69|            73|         76|              22|           19|     59|          23|        14|     14|       39|         11|       60|           36|        37|            14|          34|     45|             13|      73|    60|     15|null|null|null|null|null|186990|null|null|null|null|null|null|null|null|null|null|                GK |null|null|null|null|null|null|null|null|null|null|null|\n",
            "| 7806|    Y. Yoshida| 27|https://cdn.sofif...|         Japan|https://cdn.sofif...|     67|       67|          Sagan Tosu|https://cdn.sofif...| €625K|  €4K|   1679|          74|        60|     78|     88|          64|       35|      67|   58|       65|       22|                31|       14|          9|        12|             8|         11|              53|           63|     78|          50|        35|     61|       30|         49|       65|           65|        47|            65|          71|     70|             70|      60|    62|     24|59.0|63.0|63.0|56.0|60.0|232728|59.0|66.0|63.0|60.0|63.0|56.0|61.0|51.0|59.0|66.0|             RB LB |59.0|66.0|63.0|60.0|63.0|56.0|61.0|51.0|59.0|66.0|51.0|\n",
            "|  408|        E. Can| 23|https://cdn.sofif...|       Germany|https://cdn.sofif...|     80|       85|           Liverpool|https://cdn.sofif...|€19.5M|€105K|   2135|          69|        83|     73|     71|          80|       74|      70|   68|       76|       60|                65|       14|          8|         8|            13|         11|              70|           79|     76|          80|        72|     78|       60|         73|       77|           81|        79|            79|          73|     85|             80|      84|  79+1|     61|76.0|79.0|80.0|75.0|79.0|208333|76.0|77.0|79.0|79.0|80.0|75.0|76.0|73.0|74.0|78.0|            CDM CM |76.0|77.0|79.0|79.0|80.0|75.0|76.0|73.0|74.0|78.0|73.0|\n",
            "|11896|   M. Vigorito| 27|https://cdn.sofif...|         Italy|https://cdn.sofif...|     64|       64|           Frosinone|https://cdn.sofif...| €300K|  €1K|   1033|          43|        32|     64|     30|          21|       30|      13|   13|       13|       18|                12|       63|         60|        55|            60|         72|               9|           26|     67|          15|        13|     19|       13|         13|       64|           16|        21|            12|          45|     32|             13|      46|    24|     16|null|null|null|null|null|186611|null|null|null|null|null|null|null|null|null|null|                GK |null|null|null|null|null|null|null|null|null|null|null|\n",
            "|13283|      G. Hirst| 18|https://cdn.sofif...|       England|https://cdn.sofif...|     62|       81| Sheffield Wednesday|https://cdn.sofif...| €625K|  €6K|   1440|          72|        56|     49|     64|          54|       63|      29|   30|       47|       66|                31|       13|         13|        13|            10|          9|              67|           19|     67|          31|        48|     26|       61|         66|       51|           49|        67|            25|          77|     55|             19|      65|    43|     48|53.0|40.0|38.0|57.0|45.0|233602|53.0|40.0|40.0|45.0|38.0|57.0|52.0|61.0|54.0|40.0|                ST |53.0|40.0|40.0|45.0|38.0|57.0|52.0|61.0|54.0|40.0|61.0|\n",
            "| 3575|    F. de Jong| 20|https://cdn.sofif...|   Netherlands|https://cdn.sofif...|     72|       82|                Ajax|https://cdn.sofif...|   €5M|  €7K|   1871|          77|        58|     82|     85|          81|       77|      70|   74|       77|       48|                56|        7|         13|        10|            10|          9|              60|           68|     66|          68|        52|     52|       45|         57|       73|           77|        59|            55|          75|     67|             57|      57|    76|     50|72.0|61.0|67.0|69.0|71.0|228702|72.0|66.0|61.0|71.0|67.0|69.0|72.0|63.0|71.0|68.0|            CDM CM |72.0|66.0|61.0|71.0|67.0|69.0|72.0|63.0|71.0|68.0|63.0|\n",
            "+-----+--------------+---+--------------------+--------------+--------------------+-------+---------+--------------------+--------------------+------+-----+-------+------------+----------+-------+-------+------------+---------+--------+-----+---------+---------+------------------+---------+-----------+----------+--------------+-----------+----------------+-------------+-------+------------+----------+-------+---------+-----------+---------+-------------+----------+--------------+------------+-------+---------------+--------+------+-------+----+----+----+----+----+------+----+----+----+----+----+----+----+----+----+----+-------------------+----+----+----+----+----+----+----+----+----+----+----+\n",
            "only showing top 20 rows\n",
            "\n",
            "+----+------------+---+--------------------+--------------+--------------------+-------+---------+----------------+--------------------+-----+----+-------+------------+----------+-------+-------+------------+---------+--------+-----+---------+---------+------------------+---------+-----------+----------+--------------+-----------+----------------+-------------+-------+------------+----------+-------+---------+-----------+---------+-------------+----------+--------------+------------+-------+---------------+--------+------+-------+----+----+----+----+----+------+----+----+----+----+----+----+----+----+----+----+-------------------+----+----+----+----+----+----+----+----+----+----+----+\n",
            "|  ID|        Name|Age|               Photo|   Nationality|                Flag|Overall|Potential|            Club|           Club Logo|Value|Wage|Special|Acceleration|Aggression|Agility|Balance|Ball_Control|Composure|Crossing|Curve|Dribbling|Finishing|Free kick accuracy|GK diving|GK handling|GK kicking|GK positioning|GK reflexes|Heading accuracy|Interceptions|Jumping|Long passing|Long shots|Marking|Penalties|Positioning|Reactions|Short passing|Shot power|Sliding_Tackle|Sprint speed|Stamina|Standing tackle|Strength|Vision|Volleys| CAM|  CB| CDM|  CF|  CM|    ID| LAM|  LB| LCB| LCM| LDM|  LF|  LM|  LS|  LW| LWB|Preferred Positions| RAM|  RB| RCB| RCM| RDM|  RF|  RM|  RS|  RW| RWB|  ST|\n",
            "+----+------------+---+--------------------+--------------+--------------------+-------+---------+----------------+--------------------+-----+----+-------+------------+----------+-------+-------+------------+---------+--------+-----+---------+---------+------------------+---------+-----------+----------+--------------+-----------+----------------+-------------+-------+------------+----------+-------+---------+-----------+---------+-------------+----------+--------------+------------+-------+---------------+--------+------+-------+----+----+----+----+----+------+----+----+----+----+----+----+----+----+----+----+-------------------+----+----+----+----+----+----+----+----+----+----+----+\n",
            "| 677|  A. Samedov| 32|https://cdn.sofif...|        Russia|https://cdn.sofif...|     79|       79|  Spartak Moscow|https://cdn.sofif...| €10M|€74K|   2043|          81|        73|     78|     73|          78|       74|      80|   86|       74|       74|                79|        8|          8|         8|            11|         12|              59|           42|     64|          69|        75|     52|       81|         77|       78|           80|        73|            47|          80|     82|             52|      68|    80|     61|77.0|59.0|65.0|77.0|74.0|147621|77.0|65.0|59.0|74.0|65.0|77.0|78.0|74.0|78.0|67.0|                RM |77.0|65.0|59.0|74.0|65.0|77.0|78.0|74.0|78.0|67.0|74.0|\n",
            "|7502|   J. Michel| 25|https://cdn.sofif...|        France|https://cdn.sofif...|     68|       71|Sporting Lokeren|https://cdn.sofif...|€1.1M| €9K|   1805|          47|        58|     71|     70|          70|       73|      71|   73|       65|       51|                71|       13|          9|        14|            14|         12|              56|           66|     48|          73|        71|     46|       66|         57|       65|           71|        69|            54|          42|     67|             56|      56|    67|     66|65.0|57.0|63.0|62.0|67.0|212169|65.0|60.0|57.0|67.0|63.0|62.0|63.0|60.0|63.0|62.0|     LM CAM CDM CM |65.0|60.0|57.0|67.0|63.0|62.0|63.0|60.0|63.0|62.0|60.0|\n",
            "|4010|Lee Ho Seung| 27|https://cdn.sofif...|Korea Republic|https://cdn.sofif...|     72|       72| Jeonnam Dragons|https://cdn.sofif...|€2.1M| €4K|   1034|          33|        16|     36|     35|          18|       31|      10|   12|       11|       18|                14|       73|         72|        63|            70|         74|              13|           21|     41|          15|        16|     17|       16|         18|       68|           25|        20|            12|          23|     26|             10|      64|    57|     17|null|null|null|null|null|232191|null|null|null|null|null|null|null|null|null|null|                GK |null|null|null|null|null|null|null|null|null|null|null|\n",
            "+----+------------+---+--------------------+--------------+--------------------+-------+---------+----------------+--------------------+-----+----+-------+------------+----------+-------+-------+------------+---------+--------+-----+---------+---------+------------------+---------+-----------+----------+--------------+-----------+----------------+-------------+-------+------------+----------+-------+---------+-----------+---------+-------------+----------+--------------+------------+-------+---------------+--------+------+-------+----+----+----+----+----+------+----+----+----+----+----+----+----+----+----+----+-------------------+----+----+----+----+----+----+----+----+----+----+----+\n",
            "only showing top 3 rows\n",
            "\n",
            "+----+------------+---+--------------------+--------------+--------------------+-------+---------+----------------+--------------------+-----+----+-------+------------+----------+-------+-------+------------+---------+--------+-----+---------+---------+------------------+---------+-----------+----------+--------------+-----------+----------------+-------------+-------+------------+----------+-------+---------+-----------+---------+-------------+----------+--------------+------------+-------+---------------+--------+------+-------+----+----+----+----+----+------+----+----+----+----+----+----+----+----+----+----+-------------------+----+----+----+----+----+----+----+----+----+----+----+\n",
            "|  ID|        Name|Age|               Photo|   Nationality|                Flag|Overall|Potential|            Club|           Club Logo|Value|Wage|Special|Acceleration|Aggression|Agility|Balance|Ball_Control|Composure|Crossing|Curve|Dribbling|Finishing|Free kick accuracy|GK diving|GK handling|GK kicking|GK positioning|GK reflexes|Heading accuracy|Interceptions|Jumping|Long passing|Long shots|Marking|Penalties|Positioning|Reactions|Short passing|Shot power|Sliding_Tackle|Sprint speed|Stamina|Standing tackle|Strength|Vision|Volleys| CAM|  CB| CDM|  CF|  CM|    ID| LAM|  LB| LCB| LCM| LDM|  LF|  LM|  LS|  LW| LWB|Preferred Positions| RAM|  RB| RCB| RCM| RDM|  RF|  RM|  RS|  RW| RWB|  ST|\n",
            "+----+------------+---+--------------------+--------------+--------------------+-------+---------+----------------+--------------------+-----+----+-------+------------+----------+-------+-------+------------+---------+--------+-----+---------+---------+------------------+---------+-----------+----------+--------------+-----------+----------------+-------------+-------+------------+----------+-------+---------+-----------+---------+-------------+----------+--------------+------------+-------+---------------+--------+------+-------+----+----+----+----+----+------+----+----+----+----+----+----+----+----+----+----+-------------------+----+----+----+----+----+----+----+----+----+----+----+\n",
            "| 677|  A. Samedov| 32|https://cdn.sofif...|        Russia|https://cdn.sofif...|     79|       79|  Spartak Moscow|https://cdn.sofif...| €10M|€74K|   2043|          81|        73|     78|     73|          78|       74|      80|   86|       74|       74|                79|        8|          8|         8|            11|         12|              59|           42|     64|          69|        75|     52|       81|         77|       78|           80|        73|            47|          80|     82|             52|      68|    80|     61|77.0|59.0|65.0|77.0|74.0|147621|77.0|65.0|59.0|74.0|65.0|77.0|78.0|74.0|78.0|67.0|                RM |77.0|65.0|59.0|74.0|65.0|77.0|78.0|74.0|78.0|67.0|74.0|\n",
            "|7502|   J. Michel| 25|https://cdn.sofif...|        France|https://cdn.sofif...|     68|       71|Sporting Lokeren|https://cdn.sofif...|€1.1M| €9K|   1805|          47|        58|     71|     70|          70|       73|      71|   73|       65|       51|                71|       13|          9|        14|            14|         12|              56|           66|     48|          73|        71|     46|       66|         57|       65|           71|        69|            54|          42|     67|             56|      56|    67|     66|65.0|57.0|63.0|62.0|67.0|212169|65.0|60.0|57.0|67.0|63.0|62.0|63.0|60.0|63.0|62.0|     LM CAM CDM CM |65.0|60.0|57.0|67.0|63.0|62.0|63.0|60.0|63.0|62.0|60.0|\n",
            "|4010|Lee Ho Seung| 27|https://cdn.sofif...|Korea Republic|https://cdn.sofif...|     72|       72| Jeonnam Dragons|https://cdn.sofif...|€2.1M| €4K|   1034|          33|        16|     36|     35|          18|       31|      10|   12|       11|       18|                14|       73|         72|        63|            70|         74|              13|           21|     41|          15|        16|     17|       16|         18|       68|           25|        20|            12|          23|     26|             10|      64|    57|     17|null|null|null|null|null|232191|null|null|null|null|null|null|null|null|null|null|                GK |10.0| 1.0|10.0|null|null|null|null|null|null|null|null|\n",
            "+----+------------+---+--------------------+--------------+--------------------+-------+---------+----------------+--------------------+-----+----+-------+------------+----------+-------+-------+------------+---------+--------+-----+---------+---------+------------------+---------+-----------+----------+--------------+-----------+----------------+-------------+-------+------------+----------+-------+---------+-----------+---------+-------------+----------+--------------+------------+-------+---------------+--------+------+-------+----+----+----+----+----+------+----+----+----+----+----+----+----+----+----+----+-------------------+----+----+----+----+----+----+----+----+----+----+----+\n",
            "only showing top 3 rows\n",
            "\n"
          ]
        }
      ]
    },
    {
      "cell_type": "code",
      "source": [
        "#DF select \n",
        "df2.select(\"Name\",\"Overall\").show(4)"
      ],
      "metadata": {
        "colab": {
          "base_uri": "https://localhost:8080/"
        },
        "id": "4aLUGOdIGC4p",
        "outputId": "0eb1695a-4afe-40d9-e7da-4f5848c5d6fc"
      },
      "execution_count": 14,
      "outputs": [
        {
          "output_type": "stream",
          "name": "stdout",
          "text": [
            "+------------+-------+\n",
            "|        Name|Overall|\n",
            "+------------+-------+\n",
            "|   J. Graham|     67|\n",
            "|Park Han Bin|     64|\n",
            "|     José Sá|     76|\n",
            "|    J. Jones|     64|\n",
            "+------------+-------+\n",
            "only showing top 4 rows\n",
            "\n"
          ]
        }
      ]
    },
    {
      "cell_type": "markdown",
      "source": [
        "\n"
      ],
      "metadata": {
        "id": "PfCKIAWAGn3h"
      }
    },
    {
      "cell_type": "code",
      "source": [
        "#DF filter on overall\n",
        "\n",
        "df2.filter(df2[\"Overall\"]>82).select(\"Name\",\"Overall\").sort(\"Overall\",ascending=False).show()"
      ],
      "metadata": {
        "colab": {
          "base_uri": "https://localhost:8080/"
        },
        "id": "e6Sx6lXBHj6x",
        "outputId": "90c1f21c-3df4-4536-8e4d-eca7335e46db"
      },
      "execution_count": 77,
      "outputs": [
        {
          "output_type": "stream",
          "name": "stdout",
          "text": [
            "+-----------------+-------+\n",
            "|             Name|Overall|\n",
            "+-----------------+-------+\n",
            "|Cristiano Ronaldo|     94|\n",
            "|         L. Messi|     93|\n",
            "|        L. Suárez|     92|\n",
            "|           Neymar|     92|\n",
            "|         M. Neuer|     92|\n",
            "|   R. Lewandowski|     91|\n",
            "|     Sergio Ramos|     90|\n",
            "|       G. Higuaín|     90|\n",
            "|         T. Kroos|     90|\n",
            "|           De Gea|     90|\n",
            "|        E. Hazard|     90|\n",
            "|      T. Courtois|     89|\n",
            "|       A. Sánchez|     89|\n",
            "|          G. Bale|     89|\n",
            "|        L. Modrić|     89|\n",
            "|        G. Buffon|     89|\n",
            "|     G. Chiellini|     89|\n",
            "|        S. Agüero|     89|\n",
            "|     K. De Bruyne|     89|\n",
            "|       M. Hummels|     88|\n",
            "+-----------------+-------+\n",
            "only showing top 20 rows\n",
            "\n"
          ]
        }
      ]
    },
    {
      "cell_type": "code",
      "source": [
        "#Filter using where\n",
        "df2.select(\"Name\",\"Overall\",\"Age\").where(df2[\"Overall\"]>70).show(2)"
      ],
      "metadata": {
        "colab": {
          "base_uri": "https://localhost:8080/"
        },
        "id": "CRwSCg_WIhWc",
        "outputId": "c7abbb5f-04fe-4324-b1a4-2912c61752df"
      },
      "execution_count": 15,
      "outputs": [
        {
          "output_type": "stream",
          "name": "stdout",
          "text": [
            "+----------+-------+---+\n",
            "|      Name|Overall|Age|\n",
            "+----------+-------+---+\n",
            "|D. Cabrera|     71| 27|\n",
            "|  A. Vidal|     87| 30|\n",
            "+----------+-------+---+\n",
            "only showing top 2 rows\n",
            "\n"
          ]
        }
      ]
    },
    {
      "cell_type": "code",
      "source": [
        "# to find duplicates on combination of \"Name\",\"Overall\",\"Age\"\n",
        "\n",
        "df5=df2.select(\"Name\",\"Overall\",\"Age\").groupBy(\"Name\",\"Overall\",\"Age\").count()\n",
        "df5.where(df5[\"count\"]>1).count()"
      ],
      "metadata": {
        "colab": {
          "base_uri": "https://localhost:8080/"
        },
        "id": "zUFFDWjXI_ng",
        "outputId": "23b3efe1-cb22-43c5-8f7f-cb353334876a"
      },
      "execution_count": 28,
      "outputs": [
        {
          "output_type": "execute_result",
          "data": {
            "text/plain": [
              "56"
            ]
          },
          "metadata": {},
          "execution_count": 28
        }
      ]
    },
    {
      "cell_type": "code",
      "source": [
        "#I want you write a SQL Query and pyspark dataframe operation \n",
        "#to calculate the employee whose salary is greater than the avg of salary with respect to each Department??\n",
        "\n",
        "#+------+--------+------+----+\n",
        "#|emp_id|emp_name|salary| dep|\n",
        "#+------+--------+------+----+\n",
        "#|     1|     abc|  4000|BANG|\n",
        "#|     2|     DEF|  5000|BANG|\n",
        "#|     3|     EFG|  7000| HYD|\n",
        "#|     4|     FGH|  8000| HYD|\n",
        "#|     5|     MNO|  9000| CHN|\n",
        "#+------+--------+------+----+\n",
        "#Read data from /content/samplefile.txt\n",
        "df_rd = spark.read.csv(\"/content/samplefile.txt\",header=\"True\",sep=\"|\")\n",
        "df6 = spark.read.csv(\"/content/samplefile.txt\",header=\"True\",sep=\"|\",inferSchema=\"True\")\n",
        "print(\"Input Data df6:\")\n",
        "df6.show()\n",
        "#calculate the employee whose salary is greater than the avg of salary with respect to each Department\n",
        "from pyspark.sql.window import Window\n",
        "from pyspark.sql.functions import col,avg\n",
        "avgwindowspec = Window.partitionBy(\"dep\")\n",
        "df7=df6.withColumn(\"avg_salary\",avg(col(\"salary\")).over(avgwindowspec))\n",
        "df_ans=df7.where(df7[\"salary\"]>df7[\"avg_salary\"])\n",
        "print(\"Output Data:\")\n",
        "df_ans.show()\n",
        "# write back data into csv file\n",
        "# Saving modes\n",
        "df_ans.write.mode('overwrite').csv(\"/content/samplefile_oput_agg_Sal\")\n",
        "# You can also use this\n",
        "df_ans.write.format(\"csv\").mode('overwrite').save(\"/content/samplefile_oput_agg_Sal\")\n",
        "\n",
        "\n",
        "# read data now\n",
        "\n"
      ],
      "metadata": {
        "colab": {
          "base_uri": "https://localhost:8080/"
        },
        "id": "gVwaIDgHrwbR",
        "outputId": "786cef4f-f9ba-4f55-8a4f-a94b38af2135"
      },
      "execution_count": 62,
      "outputs": [
        {
          "output_type": "stream",
          "name": "stdout",
          "text": [
            "Input Data df6:\n",
            "+------+--------+------+---+\n",
            "|emp_id|emp_name|salary|dep|\n",
            "+------+--------+------+---+\n",
            "|     1|     abc|  4000|MEC|\n",
            "|     2|     DEF|  5000|MEC|\n",
            "|     3|     EFG|  7000|ECE|\n",
            "|     4|     FGH|  8000|ECE|\n",
            "|     5|     MNO|  9000|CSE|\n",
            "+------+--------+------+---+\n",
            "\n",
            "Output Data:\n",
            "+------+--------+------+---+----------+\n",
            "|emp_id|emp_name|salary|dep|avg_salary|\n",
            "+------+--------+------+---+----------+\n",
            "|     4|     FGH|  8000|ECE|    7500.0|\n",
            "|     2|     DEF|  5000|MEC|    4500.0|\n",
            "+------+--------+------+---+----------+\n",
            "\n"
          ]
        }
      ]
    },
    {
      "cell_type": "code",
      "source": [
        "from pyspark.sql.types import StructType,StructField, StringType, IntegerType, FloatType\n",
        "schema = StructType([ \\\n",
        "    StructField(\"emp_id\",IntegerType(),True), \\\n",
        "    StructField(\"emp_name\",StringType(),True), \\\n",
        "    StructField(\"salary\",FloatType(),True), \\\n",
        "    StructField(\"dep\", StringType(), True), \\\n",
        "    StructField(\"avg_salary\", FloatType(), True)\n",
        "  ])\n",
        "df_rd_oput_fl = spark.read.csv(\"/content/samplefile_oput_agg_Sal\",header=False,schema=schema)"
      ],
      "metadata": {
        "colab": {
          "base_uri": "https://localhost:8080/"
        },
        "id": "ROQkLIgr8WPL",
        "outputId": "9a7caecd-d01a-4eb6-ded4-d86079b25922"
      },
      "execution_count": 67,
      "outputs": [
        {
          "output_type": "stream",
          "name": "stdout",
          "text": [
            "+------+--------+------+---+----------+\n",
            "|emp_id|emp_name|salary|dep|avg_salary|\n",
            "+------+--------+------+---+----------+\n",
            "|     4|     FGH|8000.0|ECE|    7500.0|\n",
            "|     2|     DEF|5000.0|MEC|    4500.0|\n",
            "+------+--------+------+---+----------+\n",
            "\n"
          ]
        }
      ]
    },
    {
      "cell_type": "code",
      "source": [
        "df_rd_oput_fl.write.mode(\"overwrite\").csv(\"sample_out_with_header\",header=\"True\")"
      ],
      "metadata": {
        "id": "4PB4Xcqm1JxN"
      },
      "execution_count": 70,
      "outputs": []
    },
    {
      "cell_type": "code",
      "source": [
        "df2_result = df2.where(df2[\"Overall\"]>70).groupBy(\"Age\").count().sort(\"Age\")\n",
        "\n",
        "pandas_df = df2_result.toPandas()\n",
        "pandas_df.plot(x = \"Age\", y = \"count\", kind = \"bar\")\n"
      ],
      "metadata": {
        "colab": {
          "base_uri": "https://localhost:8080/",
          "height": 219
        },
        "id": "ChjY6r_3_znz",
        "outputId": "eb0c86c2-9547-4cd9-ce23-6e1962f6c0e3"
      },
      "execution_count": 1,
      "outputs": [
        {
          "output_type": "error",
          "ename": "NameError",
          "evalue": "ignored",
          "traceback": [
            "\u001b[0;31m---------------------------------------------------------------------------\u001b[0m",
            "\u001b[0;31mNameError\u001b[0m                                 Traceback (most recent call last)",
            "\u001b[0;32m<ipython-input-1-4def50c89781>\u001b[0m in \u001b[0;36m<module>\u001b[0;34m\u001b[0m\n\u001b[0;32m----> 1\u001b[0;31m \u001b[0mdf2_result\u001b[0m \u001b[0;34m=\u001b[0m \u001b[0mdf2\u001b[0m\u001b[0;34m.\u001b[0m\u001b[0mwhere\u001b[0m\u001b[0;34m(\u001b[0m\u001b[0mdf2\u001b[0m\u001b[0;34m[\u001b[0m\u001b[0;34m\"Overall\"\u001b[0m\u001b[0;34m]\u001b[0m\u001b[0;34m>\u001b[0m\u001b[0;36m70\u001b[0m\u001b[0;34m)\u001b[0m\u001b[0;34m.\u001b[0m\u001b[0mgroupBy\u001b[0m\u001b[0;34m(\u001b[0m\u001b[0;34m\"Age\"\u001b[0m\u001b[0;34m)\u001b[0m\u001b[0;34m.\u001b[0m\u001b[0mcount\u001b[0m\u001b[0;34m(\u001b[0m\u001b[0;34m)\u001b[0m\u001b[0;34m.\u001b[0m\u001b[0msort\u001b[0m\u001b[0;34m(\u001b[0m\u001b[0;34m\"Age\"\u001b[0m\u001b[0;34m)\u001b[0m\u001b[0;34m\u001b[0m\u001b[0;34m\u001b[0m\u001b[0m\n\u001b[0m\u001b[1;32m      2\u001b[0m \u001b[0;34m\u001b[0m\u001b[0m\n\u001b[1;32m      3\u001b[0m \u001b[0mpandas_df\u001b[0m \u001b[0;34m=\u001b[0m \u001b[0mdf2_result\u001b[0m\u001b[0;34m.\u001b[0m\u001b[0mtoPandas\u001b[0m\u001b[0;34m(\u001b[0m\u001b[0;34m)\u001b[0m\u001b[0;34m\u001b[0m\u001b[0;34m\u001b[0m\u001b[0m\n\u001b[1;32m      4\u001b[0m \u001b[0mpandas_df\u001b[0m\u001b[0;34m.\u001b[0m\u001b[0mplot\u001b[0m\u001b[0;34m(\u001b[0m\u001b[0mx\u001b[0m \u001b[0;34m=\u001b[0m \u001b[0;34m\"Age\"\u001b[0m\u001b[0;34m,\u001b[0m \u001b[0my\u001b[0m \u001b[0;34m=\u001b[0m \u001b[0;34m\"count\"\u001b[0m\u001b[0;34m,\u001b[0m \u001b[0mkind\u001b[0m \u001b[0;34m=\u001b[0m \u001b[0;34m\"bar\"\u001b[0m\u001b[0;34m)\u001b[0m\u001b[0;34m\u001b[0m\u001b[0;34m\u001b[0m\u001b[0m\n",
            "\u001b[0;31mNameError\u001b[0m: name 'df2' is not defined"
          ]
        }
      ]
    },
    {
      "cell_type": "markdown",
      "source": [
        "Create DF and Basic Operations"
      ],
      "metadata": {
        "id": "4Q8hMkv5QoHg"
      }
    },
    {
      "cell_type": "code",
      "source": [
        "df1 = spark.read.format(\"csv\").load(\"CompleteDataset.csv\", inferSchema=True, header=True)\n",
        "\n",
        "\n",
        "df1.rdd.getNumPartitions()\n",
        "\n",
        "#Create Temp View/Table\n",
        "df1.createOrReplaceTempView(\"football\")\n",
        "sql_q=\"select _c0 as ID,Name from football\"\n",
        "df3 = spark.sql(sql_q)\n",
        "df3.show()\n",
        "\n",
        "#Create and register UDF\n",
        "\n",
        "def upper_convert(line):\n",
        "  if len(line)>10:\n",
        "    return line.upper()\n",
        "  else:\n",
        "    return line.lower()\n",
        "spark.udf.register(\"UPPER\",upper_convert)\n",
        "\n",
        "\n",
        "df1.createOrReplaceTempView(\"UDF_football\")\n",
        "sql_q1=\"select _c0 as ID,UPPER(Name) from football\"\n",
        "df4 = spark.sql(sql_q1)\n",
        "df4.show()\n"
      ],
      "metadata": {
        "colab": {
          "base_uri": "https://localhost:8080/"
        },
        "id": "cPUHRQJ0QpOu",
        "outputId": "886d7559-2ea1-4dde-e7ff-b1079439b87d"
      },
      "execution_count": 21,
      "outputs": [
        {
          "output_type": "stream",
          "name": "stdout",
          "text": [
            "+---+-----------------+\n",
            "| ID|             Name|\n",
            "+---+-----------------+\n",
            "|  0|Cristiano Ronaldo|\n",
            "|  1|         L. Messi|\n",
            "|  2|           Neymar|\n",
            "|  3|        L. Suárez|\n",
            "|  4|         M. Neuer|\n",
            "|  5|   R. Lewandowski|\n",
            "|  6|           De Gea|\n",
            "|  7|        E. Hazard|\n",
            "|  8|         T. Kroos|\n",
            "|  9|       G. Higuaín|\n",
            "| 10|     Sergio Ramos|\n",
            "| 11|     K. De Bruyne|\n",
            "| 12|      T. Courtois|\n",
            "| 13|       A. Sánchez|\n",
            "| 14|        L. Modrić|\n",
            "| 15|          G. Bale|\n",
            "| 16|        S. Agüero|\n",
            "| 17|     G. Chiellini|\n",
            "| 18|        G. Buffon|\n",
            "| 19|        P. Dybala|\n",
            "+---+-----------------+\n",
            "only showing top 20 rows\n",
            "\n",
            "+---+-----------------+\n",
            "| ID|      UPPER(Name)|\n",
            "+---+-----------------+\n",
            "|  0|CRISTIANO RONALDO|\n",
            "|  1|         l. messi|\n",
            "|  2|           neymar|\n",
            "|  3|        l. suárez|\n",
            "|  4|         m. neuer|\n",
            "|  5|   R. LEWANDOWSKI|\n",
            "|  6|           de gea|\n",
            "|  7|        e. hazard|\n",
            "|  8|         t. kroos|\n",
            "|  9|       g. higuaín|\n",
            "| 10|     SERGIO RAMOS|\n",
            "| 11|     K. DE BRUYNE|\n",
            "| 12|      T. COURTOIS|\n",
            "| 13|       a. sánchez|\n",
            "| 14|        l. modrić|\n",
            "| 15|          g. bale|\n",
            "| 16|        s. agüero|\n",
            "| 17|     G. CHIELLINI|\n",
            "| 18|        g. buffon|\n",
            "| 19|        p. dybala|\n",
            "+---+-----------------+\n",
            "only showing top 20 rows\n",
            "\n"
          ]
        }
      ]
    }
  ]
}